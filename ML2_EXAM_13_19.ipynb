{
  "nbformat": 4,
  "nbformat_minor": 0,
  "metadata": {
    "colab": {
      "provenance": [],
      "collapsed_sections": [
        "zFt22JzpZOg-",
        "CblahkGybdhn",
        "7FVui2t9fR9H",
        "ibY3YQBojMN-",
        "SpdR-BG1iceP",
        "_00O8RyfoTi_"
      ]
    },
    "kernelspec": {
      "name": "python3",
      "display_name": "Python 3"
    },
    "language_info": {
      "name": "python"
    }
  },
  "cells": [
    {
      "cell_type": "code",
      "execution_count": 34,
      "metadata": {
        "id": "0EkiApM2YJYy"
      },
      "outputs": [],
      "source": [
        "import numpy as np \n",
        "import pandas as pd \n",
        "import matplotlib.pyplot as plt "
      ]
    },
    {
      "cell_type": "code",
      "source": [
        "X = np.array([0.5, 2.5]) \n",
        "Y = np.array([0.2, 0.9])"
      ],
      "metadata": {
        "id": "gCdUhf8TYZLc"
      },
      "execution_count": 35,
      "outputs": []
    },
    {
      "cell_type": "code",
      "source": [
        "def sigmoid(x, w, b): \n",
        "  y_in = np.dot(w, x) + b \n",
        "  y_hat = 1/(1 + np.exp(-y_in)) \n",
        "  return y_hat"
      ],
      "metadata": {
        "id": "s91OYvodYh8b"
      },
      "execution_count": 36,
      "outputs": []
    },
    {
      "cell_type": "code",
      "source": [
        "def error(y, y_hat): \n",
        "  err = np.array((y-y_hat)**2).mean() \n",
        "  return err "
      ],
      "metadata": {
        "id": "s9cSRnX6Ytg6"
      },
      "execution_count": 37,
      "outputs": []
    },
    {
      "cell_type": "code",
      "source": [
        "def delta_w(x, y, y_hat, c): \n",
        "  dw = c*(y_hat-y)*y_hat*(1-y_hat)*x\n",
        "  return dw "
      ],
      "metadata": {
        "id": "Bekz9UHwYy-C"
      },
      "execution_count": 38,
      "outputs": []
    },
    {
      "cell_type": "code",
      "source": [
        "def delta_b(y, y_hat, c): \n",
        "  db = c*(y_hat-y)*y_hat*(1-y_hat)\n",
        "  return db"
      ],
      "metadata": {
        "id": "IMiZd322ZGj2"
      },
      "execution_count": 39,
      "outputs": []
    },
    {
      "cell_type": "markdown",
      "source": [
        "# **BATCH**"
      ],
      "metadata": {
        "id": "zFt22JzpZOg-"
      }
    },
    {
      "cell_type": "code",
      "source": [
        "def batch_gd(x, Y, epochs): \n",
        "  w = -2 \n",
        "  b = -2 \n",
        "  c = 1 \n",
        "  err_list = [] \n",
        "  W = [] \n",
        "  B = [] \n",
        "  for i in range(epochs): \n",
        "    temp_w = 0 \n",
        "    temp_b = 0\n",
        "    for x, y in zip(X, Y):\n",
        "      y_hat = sigmoid(x, w, b) \n",
        "      temp_w += delta_w(x, y, y_hat, c) \n",
        "      temp_b += delta_b(y, y_hat, c) \n",
        "    temp_w = temp_w/len(Y) \n",
        "    temp_b = temp_b/len(Y) \n",
        "    w -= temp_w \n",
        "    b -= temp_b \n",
        "    W.append(w) \n",
        "    B.append(b) \n",
        "    err_list.append(error(Y, sigmoid(X, w, b)))\n",
        "    print(f\"After epoch {i+1}: Weight ==> {w} and Bias ==> {b}\") \n",
        "  return W, B, err_list "
      ],
      "metadata": {
        "id": "XRWCZn8FZLU0"
      },
      "execution_count": 40,
      "outputs": []
    },
    {
      "cell_type": "code",
      "source": [
        "wt_bgd, b_bgd, err_bgd = batch_gd(X, Y, 100)"
      ],
      "metadata": {
        "colab": {
          "base_uri": "https://localhost:8080/"
        },
        "id": "-HlMMbtmajW6",
        "outputId": "210fc127-2ff3-457f-a4bb-cdc80359db84"
      },
      "execution_count": 41,
      "outputs": [
        {
          "output_type": "stream",
          "name": "stdout",
          "text": [
            "After epoch 1: Weight ==> -1.99725384039218 and Bias ==> -1.9961444203923928\n",
            "After epoch 2: Weight ==> -1.9944912004709476 and Bias ==> -1.9922734714647627\n",
            "After epoch 3: Weight ==> -1.9917118825485347 and Bias ==> -1.9883870406790147\n",
            "After epoch 4: Weight ==> -1.9889156852695724 and Bias ==> -1.984485014240972\n",
            "After epoch 5: Weight ==> -1.9861024035175066 and Bias ==> -1.9805672770781728\n",
            "After epoch 6: Weight ==> -1.9832718283179627 and Bias ==> -1.9766337128170246\n",
            "After epoch 7: Weight ==> -1.9804237467389414 and Bias ==> -1.9726842037592907\n",
            "After epoch 8: Weight ==> -1.9775579417877174 and Bias ==> -1.9687186308578795\n",
            "After epoch 9: Weight ==> -1.9746741923043087 and Bias ==> -1.9647368736919084\n",
            "After epoch 10: Weight ==> -1.9717722728513796 and Bias ==> -1.9607388104410104\n",
            "After epoch 11: Weight ==> -1.9688519536004305 and Bias ==> -1.9567243178588505\n",
            "After epoch 12: Weight ==> -1.9659130002141245 and Bias ==> -1.9526932712458187\n",
            "After epoch 13: Weight ==> -1.9629551737245892 and Bias ==> -1.948645544420863\n",
            "After epoch 14: Weight ==> -1.9599782304075295 and Bias ==> -1.9445810096924236\n",
            "After epoch 15: Weight ==> -1.9569819216519742 and Bias ==> -1.9404995378284289\n",
            "After epoch 16: Weight ==> -1.9539659938254734 and Bias ==> -1.9364009980253114\n",
            "After epoch 17: Weight ==> -1.950930188134555 and Bias ==> -1.9322852578759977\n",
            "After epoch 18: Weight ==> -1.9478742404802363 and Bias ==> -1.9281521833368271\n",
            "After epoch 19: Weight ==> -1.944797881308379 and Bias ==> -1.9240016386933478\n",
            "After epoch 20: Weight ==> -1.941700835454666 and Bias ==> -1.9198334865249402\n",
            "After epoch 21: Weight ==> -1.938582821983963 and Bias ==> -1.9156475876682095\n",
            "After epoch 22: Weight ==> -1.9354435540238188 and Bias ==> -1.9114438011790924\n",
            "After epoch 23: Weight ==> -1.9322827385918493 and Bias ==> -1.907221984293614\n",
            "After epoch 24: Weight ==> -1.9291000764167257 and Bias ==> -1.9029819923872306\n",
            "After epoch 25: Weight ==> -1.9258952617524863 and Bias ==> -1.89872367893269\n",
            "After epoch 26: Weight ==> -1.922667982185867 and Bias ==> -1.894446895456336\n",
            "After epoch 27: Weight ==> -1.9194179184363325 and Bias ==> -1.8901514914927813\n",
            "After epoch 28: Weight ==> -1.9161447441484751 and Bias ==> -1.8858373145378646\n",
            "After epoch 29: Weight ==> -1.9128481256764265 and Bias ==> -1.8815042099998107\n",
            "After epoch 30: Weight ==> -1.9095277218599116 and Bias ==> -1.8771520211484964\n",
            "After epoch 31: Weight ==> -1.9061831837915517 and Bias ==> -1.8727805890627307\n",
            "After epoch 32: Weight ==> -1.9028141545750037 and Bias ==> -1.8683897525754438\n",
            "After epoch 33: Weight ==> -1.8994202690734971 and Bias ==> -1.8639793482166778\n",
            "After epoch 34: Weight ==> -1.8960011536483088 and Bias ==> -1.8595492101542623\n",
            "After epoch 35: Weight ==> -1.8925564258866883 and Bias ==> -1.855099170132056\n",
            "After epoch 36: Weight ==> -1.8890856943187182 and Bias ==> -1.8506290574056201\n",
            "After epoch 37: Weight ==> -1.885588558122565 and Bias ==> -1.84613869867519\n",
            "After epoch 38: Weight ==> -1.8820646068175462 and Bias ==> -1.8416279180157957\n",
            "After epoch 39: Weight ==> -1.8785134199444016 and Bias ==> -1.8370965368043792\n",
            "After epoch 40: Weight ==> -1.874934566732127 and Bias ==> -1.832544373643739\n",
            "After epoch 41: Weight ==> -1.8713276057506854 and Bias ==> -1.8279712442831297\n",
            "After epoch 42: Weight ==> -1.8676920845488707 and Bias ==> -1.8233769615353286\n",
            "After epoch 43: Weight ==> -1.8640275392765613 and Bias ==> -1.8187613351899692\n",
            "After epoch 44: Weight ==> -1.860333494290543 and Bias ==> -1.814124171922931\n",
            "After epoch 45: Weight ==> -1.8566094617430444 and Bias ==> -1.809465275201559\n",
            "After epoch 46: Weight ==> -1.8528549411520627 and Bias ==> -1.8047844451854715\n",
            "After epoch 47: Weight ==> -1.84906941895251 and Bias ==> -1.8000814786227013\n",
            "After epoch 48: Weight ==> -1.8452523680271433 and Bias ==> -1.7953561687408937\n",
            "After epoch 49: Weight ==> -1.8414032472161777 and Bias ==> -1.7906083051332715\n",
            "After epoch 50: Weight ==> -1.837521500804414 and Bias ==> -1.7858376736390524\n",
            "After epoch 51: Weight ==> -1.833606557984634 and Bias ==> -1.7810440562179863\n",
            "After epoch 52: Weight ==> -1.829657832295936 and Bias ==> -1.7762272308186546\n",
            "After epoch 53: Weight ==> -1.825674721035598 and Bias ==> -1.7713869712401515\n",
            "After epoch 54: Weight ==> -1.8216566046429594 and Bias ==> -1.7665230469867375\n",
            "After epoch 55: Weight ==> -1.8176028460537168 and Bias ==> -1.7616352231150272\n",
            "After epoch 56: Weight ==> -1.8135127900229133 and Bias ==> -1.7567232600732448\n",
            "After epoch 57: Weight ==> -1.8093857624147909 and Bias ==> -1.7517869135320432\n",
            "After epoch 58: Weight ==> -1.805221069457546 and Bias ==> -1.7468259342063486\n",
            "After epoch 59: Weight ==> -1.801017996960893 and Bias ==> -1.7418400676676524\n",
            "After epoch 60: Weight ==> -1.7967758094941961 and Bias ==> -1.7368290541461304\n",
            "After epoch 61: Weight ==> -1.7924937495227644 and Bias ==> -1.7317926283219203\n",
            "After epoch 62: Weight ==> -1.7881710364997456 and Bias ==> -1.7267305191048423\n",
            "After epoch 63: Weight ==> -1.7838068659108548 and Bias ==> -1.721642449401791\n",
            "After epoch 64: Weight ==> -1.7794004082689845 and Bias ==> -1.7165281358709672\n",
            "After epoch 65: Weight ==> -1.7749508080555179 and Bias ==> -1.7113872886620558\n",
            "After epoch 66: Weight ==> -1.7704571826049345 and Bias ==> -1.706219611141385\n",
            "After epoch 67: Weight ==> -1.7659186209290396 and Bias ==> -1.7010247996010286\n",
            "After epoch 68: Weight ==> -1.76133418247687 and Bias ==> -1.6958025429507266\n",
            "After epoch 69: Weight ==> -1.7567028958260267 and Bias ==> -1.6905525223914122\n",
            "After epoch 70: Weight ==> -1.7520237573008541 and Bias ==> -1.6852744110690356\n",
            "After epoch 71: Weight ==> -1.747295729512528 and Bias ==> -1.679967873707267\n",
            "After epoch 72: Weight ==> -1.7425177398157206 and Bias ==> -1.6746325662175414\n",
            "After epoch 73: Weight ==> -1.7376886786760852 and Bias ==> -1.6692681352847865\n",
            "After epoch 74: Weight ==> -1.7328073979423355 and Bias ==> -1.6638742179270267\n",
            "After epoch 75: Weight ==> -1.727872709016184 and Bias ==> -1.6584504410269114\n",
            "After epoch 76: Weight ==> -1.722883380912846 and Bias ==> -1.652996420833038\n",
            "After epoch 77: Weight ==> -1.7178381382042018 and Bias ==> -1.6475117624287654\n",
            "After epoch 78: Weight ==> -1.7127356588360392 and Bias ==> -1.641996059166\n",
            "After epoch 79: Weight ==> -1.7075745718100637 and Bias ==> -1.6364488920612237\n",
            "After epoch 80: Weight ==> -1.7023534547205486 and Bias ==> -1.6308698291507775\n",
            "After epoch 81: Weight ==> -1.6970708311346088 and Bias ==> -1.6252584248021504\n",
            "After epoch 82: Weight ==> -1.6917251678041023 and Bias ==> -1.6196142189777212\n",
            "After epoch 83: Weight ==> -1.6863148716960754 and Bias ==> -1.6139367364470671\n",
            "After epoch 84: Weight ==> -1.6808382868274756 and Bias ==> -1.6082254859435952\n",
            "After epoch 85: Weight ==> -1.6752936908885343 and Bias ==> -1.6024799592608383\n",
            "After epoch 86: Weight ==> -1.6696792916377574 and Bias ==> -1.5966996302833156\n",
            "After epoch 87: Weight ==> -1.6639932230498409 and Bias ==> -1.5908839539463535\n",
            "After epoch 88: Weight ==> -1.6582335411960294 and Bias ==> -1.5850323651187117\n",
            "After epoch 89: Weight ==> -1.6523982198344398 and Bias ==> -1.5791442774012416\n",
            "After epoch 90: Weight ==> -1.6464851456856409 and Bias ==> -1.5732190818341145\n",
            "After epoch 91: Weight ==> -1.6404921133663095 and Bias ==> -1.5672561455043903\n",
            "After epoch 92: Weight ==> -1.6344168199510127 and Bias ==> -1.5612548100448387\n",
            "After epoch 93: Weight ==> -1.6282568591290774 and Bias ==> -1.555214390013964\n",
            "After epoch 94: Weight ==> -1.6220097149200492 and Bias ==> -1.5491341711461082\n",
            "After epoch 95: Weight ==> -1.615672754907366 and Bias ==> -1.5430134084592912\n",
            "After epoch 96: Weight ==> -1.609243222945514 and Bias ==> -1.536851324207097\n",
            "After epoch 97: Weight ==> -1.6027182312910473 and Bias ==> -1.530647105659366\n",
            "After epoch 98: Weight ==> -1.5960947521023234 and Bias ==> -1.5243999026947406\n",
            "After epoch 99: Weight ==> -1.5893696082465953 and Bias ==> -1.5181088251861365\n",
            "After epoch 100: Weight ==> -1.582539463346055 and Bias ==> -1.5117729401580118\n"
          ]
        }
      ]
    },
    {
      "cell_type": "code",
      "source": [
        "epoch = [i for i in range(1, 101)]"
      ],
      "metadata": {
        "id": "VINmyDnOarLW"
      },
      "execution_count": 42,
      "outputs": []
    },
    {
      "cell_type": "code",
      "source": [
        "plt.plot(epoch, err_bgd) \n",
        "plt.xlabel(\"Epoch\") \n",
        "plt.ylabel(\"Error\") \n",
        "plt.show()"
      ],
      "metadata": {
        "colab": {
          "base_uri": "https://localhost:8080/",
          "height": 0
        },
        "id": "y7ttSPqfa0JL",
        "outputId": "2aa50bf1-762f-46fe-bd63-84c230c60a6a"
      },
      "execution_count": 43,
      "outputs": [
        {
          "output_type": "display_data",
          "data": {
            "text/plain": [
              "<Figure size 432x288 with 1 Axes>"
            ],
            "image/png": "[encoded data removed]"
          },
          "metadata": {
            "needs_background": "light"
          }
        }
      ]
    },
    {
      "cell_type": "code",
      "source": [
        "plt.plot(wt_bgd, err_bgd) \n",
        "plt.xlabel(\"Weight\") \n",
        "plt.ylabel(\"Error\") \n",
        "plt.show()"
      ],
      "metadata": {
        "colab": {
          "base_uri": "https://localhost:8080/",
          "height": 0
        },
        "id": "S8m85s7ia7UB",
        "outputId": "e96605e3-7592-466c-d3ae-6c2fd58ddae7"
      },
      "execution_count": 44,
      "outputs": [
        {
          "output_type": "display_data",
          "data": {
            "text/plain": [
              "<Figure size 432x288 with 1 Axes>"
            ],
            "image/png": "[encoded data removed]"
          },
          "metadata": {
            "needs_background": "light"
          }
        }
      ]
    },
    {
      "cell_type": "markdown",
      "source": [
        "# **MINI-BATCH**"
      ],
      "metadata": {
        "id": "CblahkGybdhn"
      }
    },
    {
      "cell_type": "code",
      "source": [
        "def mini_batch_gd(X, Y, epochs): \n",
        "  batch_size = 1 \n",
        "  w = -2 \n",
        "  b = -2 \n",
        "  c = 1 \n",
        "  err_list = [] \n",
        "  W = [] \n",
        "  B = [] \n",
        "  for i in range(epochs): \n",
        "    temp_dw = 0 \n",
        "    temp_db = 0 \n",
        "    temp_w = 0 \n",
        "    temp_b = 0 \n",
        "    counter = 0\n",
        "    for x, y in zip(X, Y): \n",
        "      y_hat = sigmoid(x, w, b) \n",
        "      temp_dw += delta_w(x, y, y_hat, c) \n",
        "      temp_db += delta_b(y, y_hat, c) \n",
        "      counter += 1 \n",
        "      if(counter % batch_size == 0):  \n",
        "        temp_w += temp_dw \n",
        "        temp_b += temp_db \n",
        "        temp_dw = 0 \n",
        "        temp_db = 0  \n",
        "    n_batches = len(Y)/batch_size \n",
        "    w -= temp_w/n_batches \n",
        "    b -= temp_b/n_batches \n",
        "    W.append(w) \n",
        "    B.append(b) \n",
        "    err_list.append(error(Y, sigmoid(X, w, b)))\n",
        "    print(f\"After epoch {i+1}: Weight ==> {w} and Bias ==> {b}\") \n",
        "  \n",
        "  return W, B, err_list"
      ],
      "metadata": {
        "id": "qaJWJ9avbhSM"
      },
      "execution_count": 45,
      "outputs": []
    },
    {
      "cell_type": "code",
      "source": [
        "wt_mb, bias_mb, err_mb = mini_batch_gd(X, Y, 100)"
      ],
      "metadata": {
        "colab": {
          "base_uri": "https://localhost:8080/"
        },
        "id": "wNeDUDAjdrBG",
        "outputId": "17ed50f8-70b5-4d74-fcbe-c97ddf65e7cb"
      },
      "execution_count": 46,
      "outputs": [
        {
          "output_type": "stream",
          "name": "stdout",
          "text": [
            "After epoch 1: Weight ==> -1.99725384039218 and Bias ==> -1.9961444203923928\n",
            "After epoch 2: Weight ==> -1.9944912004709476 and Bias ==> -1.9922734714647627\n",
            "After epoch 3: Weight ==> -1.9917118825485347 and Bias ==> -1.9883870406790147\n",
            "After epoch 4: Weight ==> -1.9889156852695724 and Bias ==> -1.984485014240972\n",
            "After epoch 5: Weight ==> -1.9861024035175066 and Bias ==> -1.9805672770781728\n",
            "After epoch 6: Weight ==> -1.9832718283179627 and Bias ==> -1.9766337128170246\n",
            "After epoch 7: Weight ==> -1.9804237467389414 and Bias ==> -1.9726842037592907\n",
            "After epoch 8: Weight ==> -1.9775579417877174 and Bias ==> -1.9687186308578795\n",
            "After epoch 9: Weight ==> -1.9746741923043087 and Bias ==> -1.9647368736919084\n",
            "After epoch 10: Weight ==> -1.9717722728513796 and Bias ==> -1.9607388104410104\n",
            "After epoch 11: Weight ==> -1.9688519536004305 and Bias ==> -1.9567243178588505\n",
            "After epoch 12: Weight ==> -1.9659130002141245 and Bias ==> -1.9526932712458187\n",
            "After epoch 13: Weight ==> -1.9629551737245892 and Bias ==> -1.948645544420863\n",
            "After epoch 14: Weight ==> -1.9599782304075295 and Bias ==> -1.9445810096924236\n",
            "After epoch 15: Weight ==> -1.9569819216519742 and Bias ==> -1.9404995378284289\n",
            "After epoch 16: Weight ==> -1.9539659938254734 and Bias ==> -1.9364009980253114\n",
            "After epoch 17: Weight ==> -1.950930188134555 and Bias ==> -1.9322852578759977\n",
            "After epoch 18: Weight ==> -1.9478742404802363 and Bias ==> -1.9281521833368271\n",
            "After epoch 19: Weight ==> -1.944797881308379 and Bias ==> -1.9240016386933478\n",
            "After epoch 20: Weight ==> -1.941700835454666 and Bias ==> -1.9198334865249402\n",
            "After epoch 21: Weight ==> -1.938582821983963 and Bias ==> -1.9156475876682095\n",
            "After epoch 22: Weight ==> -1.9354435540238188 and Bias ==> -1.9114438011790924\n",
            "After epoch 23: Weight ==> -1.9322827385918493 and Bias ==> -1.907221984293614\n",
            "After epoch 24: Weight ==> -1.9291000764167257 and Bias ==> -1.9029819923872306\n",
            "After epoch 25: Weight ==> -1.9258952617524863 and Bias ==> -1.89872367893269\n",
            "After epoch 26: Weight ==> -1.922667982185867 and Bias ==> -1.894446895456336\n",
            "After epoch 27: Weight ==> -1.9194179184363325 and Bias ==> -1.8901514914927813\n",
            "After epoch 28: Weight ==> -1.9161447441484751 and Bias ==> -1.8858373145378646\n",
            "After epoch 29: Weight ==> -1.9128481256764265 and Bias ==> -1.8815042099998107\n",
            "After epoch 30: Weight ==> -1.9095277218599116 and Bias ==> -1.8771520211484964\n",
            "After epoch 31: Weight ==> -1.9061831837915517 and Bias ==> -1.8727805890627307\n",
            "After epoch 32: Weight ==> -1.9028141545750037 and Bias ==> -1.8683897525754438\n",
            "After epoch 33: Weight ==> -1.8994202690734971 and Bias ==> -1.8639793482166778\n",
            "After epoch 34: Weight ==> -1.8960011536483088 and Bias ==> -1.8595492101542623\n",
            "After epoch 35: Weight ==> -1.8925564258866883 and Bias ==> -1.855099170132056\n",
            "After epoch 36: Weight ==> -1.8890856943187182 and Bias ==> -1.8506290574056201\n",
            "After epoch 37: Weight ==> -1.885588558122565 and Bias ==> -1.84613869867519\n",
            "After epoch 38: Weight ==> -1.8820646068175462 and Bias ==> -1.8416279180157957\n",
            "After epoch 39: Weight ==> -1.8785134199444016 and Bias ==> -1.8370965368043792\n",
            "After epoch 40: Weight ==> -1.874934566732127 and Bias ==> -1.832544373643739\n",
            "After epoch 41: Weight ==> -1.8713276057506854 and Bias ==> -1.8279712442831297\n",
            "After epoch 42: Weight ==> -1.8676920845488707 and Bias ==> -1.8233769615353286\n",
            "After epoch 43: Weight ==> -1.8640275392765613 and Bias ==> -1.8187613351899692\n",
            "After epoch 44: Weight ==> -1.860333494290543 and Bias ==> -1.814124171922931\n",
            "After epoch 45: Weight ==> -1.8566094617430444 and Bias ==> -1.809465275201559\n",
            "After epoch 46: Weight ==> -1.8528549411520627 and Bias ==> -1.8047844451854715\n",
            "After epoch 47: Weight ==> -1.84906941895251 and Bias ==> -1.8000814786227013\n",
            "After epoch 48: Weight ==> -1.8452523680271433 and Bias ==> -1.7953561687408937\n",
            "After epoch 49: Weight ==> -1.8414032472161777 and Bias ==> -1.7906083051332715\n",
            "After epoch 50: Weight ==> -1.837521500804414 and Bias ==> -1.7858376736390524\n",
            "After epoch 51: Weight ==> -1.833606557984634 and Bias ==> -1.7810440562179863\n",
            "After epoch 52: Weight ==> -1.829657832295936 and Bias ==> -1.7762272308186546\n",
            "After epoch 53: Weight ==> -1.825674721035598 and Bias ==> -1.7713869712401515\n",
            "After epoch 54: Weight ==> -1.8216566046429594 and Bias ==> -1.7665230469867375\n",
            "After epoch 55: Weight ==> -1.8176028460537168 and Bias ==> -1.7616352231150272\n",
            "After epoch 56: Weight ==> -1.8135127900229133 and Bias ==> -1.7567232600732448\n",
            "After epoch 57: Weight ==> -1.8093857624147909 and Bias ==> -1.7517869135320432\n",
            "After epoch 58: Weight ==> -1.805221069457546 and Bias ==> -1.7468259342063486\n",
            "After epoch 59: Weight ==> -1.801017996960893 and Bias ==> -1.7418400676676524\n",
            "After epoch 60: Weight ==> -1.7967758094941961 and Bias ==> -1.7368290541461304\n",
            "After epoch 61: Weight ==> -1.7924937495227644 and Bias ==> -1.7317926283219203\n",
            "After epoch 62: Weight ==> -1.7881710364997456 and Bias ==> -1.7267305191048423\n",
            "After epoch 63: Weight ==> -1.7838068659108548 and Bias ==> -1.721642449401791\n",
            "After epoch 64: Weight ==> -1.7794004082689845 and Bias ==> -1.7165281358709672\n",
            "After epoch 65: Weight ==> -1.7749508080555179 and Bias ==> -1.7113872886620558\n",
            "After epoch 66: Weight ==> -1.7704571826049345 and Bias ==> -1.706219611141385\n",
            "After epoch 67: Weight ==> -1.7659186209290396 and Bias ==> -1.7010247996010286\n",
            "After epoch 68: Weight ==> -1.76133418247687 and Bias ==> -1.6958025429507266\n",
            "After epoch 69: Weight ==> -1.7567028958260267 and Bias ==> -1.6905525223914122\n",
            "After epoch 70: Weight ==> -1.7520237573008541 and Bias ==> -1.6852744110690356\n",
            "After epoch 71: Weight ==> -1.747295729512528 and Bias ==> -1.679967873707267\n",
            "After epoch 72: Weight ==> -1.7425177398157206 and Bias ==> -1.6746325662175414\n",
            "After epoch 73: Weight ==> -1.7376886786760852 and Bias ==> -1.6692681352847865\n",
            "After epoch 74: Weight ==> -1.7328073979423355 and Bias ==> -1.6638742179270267\n",
            "After epoch 75: Weight ==> -1.727872709016184 and Bias ==> -1.6584504410269114\n",
            "After epoch 76: Weight ==> -1.722883380912846 and Bias ==> -1.652996420833038\n",
            "After epoch 77: Weight ==> -1.7178381382042018 and Bias ==> -1.6475117624287654\n",
            "After epoch 78: Weight ==> -1.7127356588360392 and Bias ==> -1.641996059166\n",
            "After epoch 79: Weight ==> -1.7075745718100637 and Bias ==> -1.6364488920612237\n",
            "After epoch 80: Weight ==> -1.7023534547205486 and Bias ==> -1.6308698291507775\n",
            "After epoch 81: Weight ==> -1.6970708311346088 and Bias ==> -1.6252584248021504\n",
            "After epoch 82: Weight ==> -1.6917251678041023 and Bias ==> -1.6196142189777212\n",
            "After epoch 83: Weight ==> -1.6863148716960754 and Bias ==> -1.6139367364470671\n",
            "After epoch 84: Weight ==> -1.6808382868274756 and Bias ==> -1.6082254859435952\n",
            "After epoch 85: Weight ==> -1.6752936908885343 and Bias ==> -1.6024799592608383\n",
            "After epoch 86: Weight ==> -1.6696792916377574 and Bias ==> -1.5966996302833156\n",
            "After epoch 87: Weight ==> -1.6639932230498409 and Bias ==> -1.5908839539463535\n",
            "After epoch 88: Weight ==> -1.6582335411960294 and Bias ==> -1.5850323651187117\n",
            "After epoch 89: Weight ==> -1.6523982198344398 and Bias ==> -1.5791442774012416\n",
            "After epoch 90: Weight ==> -1.6464851456856409 and Bias ==> -1.5732190818341145\n",
            "After epoch 91: Weight ==> -1.6404921133663095 and Bias ==> -1.5672561455043903\n",
            "After epoch 92: Weight ==> -1.6344168199510127 and Bias ==> -1.5612548100448387\n",
            "After epoch 93: Weight ==> -1.6282568591290774 and Bias ==> -1.555214390013964\n",
            "After epoch 94: Weight ==> -1.6220097149200492 and Bias ==> -1.5491341711461082\n",
            "After epoch 95: Weight ==> -1.615672754907366 and Bias ==> -1.5430134084592912\n",
            "After epoch 96: Weight ==> -1.609243222945514 and Bias ==> -1.536851324207097\n",
            "After epoch 97: Weight ==> -1.6027182312910473 and Bias ==> -1.530647105659366\n",
            "After epoch 98: Weight ==> -1.5960947521023234 and Bias ==> -1.5243999026947406\n",
            "After epoch 99: Weight ==> -1.5893696082465953 and Bias ==> -1.5181088251861365\n",
            "After epoch 100: Weight ==> -1.582539463346055 and Bias ==> -1.5117729401580118\n"
          ]
        }
      ]
    },
    {
      "cell_type": "code",
      "source": [
        "plt.plot(epoch, err_mb) \n",
        "plt.xlabel(\"Epochs\") \n",
        "plt.ylabel(\"Error\") \n",
        "plt.show()"
      ],
      "metadata": {
        "colab": {
          "base_uri": "https://localhost:8080/",
          "height": 0
        },
        "id": "T1WUATU8dxAi",
        "outputId": "6a96095e-64a6-4695-c532-d98991bb9e38"
      },
      "execution_count": 47,
      "outputs": [
        {
          "output_type": "display_data",
          "data": {
            "text/plain": [
              "<Figure size 432x288 with 1 Axes>"
            ],
            "image/png": "[encoded data removed]"
          },
          "metadata": {
            "needs_background": "light"
          }
        }
      ]
    },
    {
      "cell_type": "code",
      "source": [
        "plt.plot(wt_mb, err_mb) \n",
        "plt.xlabel(\"Weights\") \n",
        "plt.ylabel(\"Error\") \n",
        "plt.show()"
      ],
      "metadata": {
        "colab": {
          "base_uri": "https://localhost:8080/",
          "height": 0
        },
        "id": "1lKBFfBAd4_z",
        "outputId": "e2637258-a2c3-44bb-90f2-579acc474764"
      },
      "execution_count": 48,
      "outputs": [
        {
          "output_type": "display_data",
          "data": {
            "text/plain": [
              "<Figure size 432x288 with 1 Axes>"
            ],
            "image/png": "[encoded data removed]"
          },
          "metadata": {
            "needs_background": "light"
          }
        }
      ]
    },
    {
      "cell_type": "markdown",
      "source": [
        "# **MOMENTUM**"
      ],
      "metadata": {
        "id": "7FVui2t9fR9H"
      }
    },
    {
      "cell_type": "code",
      "source": [
        "def momentum_gd(X, Y, epochs): \n",
        "  w = -2\n",
        "  b = -2\n",
        "  eta = 1\n",
        "  c = 1\n",
        "  gamma = 0.9\n",
        "  v_w = 0 \n",
        "  v_b = 0 \n",
        "  err_list = [] \n",
        "  W = [] \n",
        "  B = [] \n",
        "  for i in range(epochs): \n",
        "    temp_dw = 0\n",
        "    temp_db = 0 \n",
        "    for x, y in zip(X, Y):  \n",
        "      y_hat = sigmoid(x, w, b)\n",
        "      temp_dw += delta_w(x, y, y_hat, c) \n",
        "      temp_db += delta_b(y, y_hat, c) \n",
        "    v_w = gamma*v_w + eta*temp_dw \n",
        "    v_b = gamma*v_b + eta*temp_db \n",
        "    w -= v_w \n",
        "    b -= v_b \n",
        "    W.append(w) \n",
        "    B.append(b) \n",
        "    y_hat = sigmoid(X, w, b)\n",
        "    err_list.append(error(Y, y_hat)) \n",
        "    print(f\"After epoch {i+1}: Weight is {w} and Bias is {b}\") \n",
        "  return W, B, err_list"
      ],
      "metadata": {
        "id": "ekF3T9SXfUM_"
      },
      "execution_count": 49,
      "outputs": []
    },
    {
      "cell_type": "code",
      "source": [
        "wt_mom, bias_mom, err_mom = momentum_gd(X, Y, 100)"
      ],
      "metadata": {
        "colab": {
          "base_uri": "https://localhost:8080/"
        },
        "id": "ULSdCKXThq8f",
        "outputId": "90748746-fd13-4ee4-af0f-3975bdd7b80c"
      },
      "execution_count": 50,
      "outputs": [
        {
          "output_type": "stream",
          "name": "stdout",
          "text": [
            "After epoch 1: Weight is -1.99450768078436 and Bias is -1.9922888407847856\n",
            "After epoch 2: Weight is -1.9840061250335266 and Bias is -1.977576082055321\n",
            "After epoch 3: Weight is -1.9688673360707378 and Bias is -1.9564434677326807\n",
            "After epoch 4: Weight is -1.9493633941856943 and Bias is -1.9293606641030028\n",
            "After epoch 5: Weight is -1.9256734075697135 and Bias is -1.8966979801040313\n",
            "After epoch 6: Weight is -1.8978865395684548 and Bias is -1.858736566437543\n",
            "After epoch 7: Weight is -1.8660009795398573 and Bias is -1.8156764531171905\n",
            "After epoch 8: Weight is -1.8299182601553428 and Bias is -1.7676426602264097\n",
            "After epoch 9: Weight is -1.7894317045176555 and Bias is -1.7146894808539017\n",
            "After epoch 10: Weight is -1.7442068520770284 and Bias is -1.6568028511091835\n",
            "After epoch 11: Weight is -1.6937501830462272 and Bias is -1.5939004203451528\n",
            "After epoch 12: Weight is -1.637359805935997 and Bias is -1.5258283744380419\n",
            "After epoch 13: Weight is -1.5740469247910656 and Bias is -1.4523529449551191\n",
            "After epoch 14: Weight is -1.502407596229703 and Bias is -1.373142182445943\n",
            "After epoch 15: Weight is -1.4204054215370807 and Bias is -1.2877283953908283\n",
            "After epoch 16: Weight is -1.3249851280329374 and Bias is -1.1954297025473897\n",
            "After epoch 17: Weight is -1.2113426510800618 and Bias is -1.0951798683443923\n",
            "After epoch 18: Weight is -1.071439580672817 and Bias is -0.9851385955123005\n",
            "After epoch 19: Weight is -0.8906944883305166 and Bias is -0.8617354548421136\n",
            "After epoch 20: Weight is -0.6398609080570864 and Bias is -0.717147349519027\n",
            "After epoch 21: Weight is -0.2546024908950007 and Bias is -0.53275430972185\n",
            "After epoch 22: Weight is 0.3760467920632184 and Bias is -0.2785233618667935\n",
            "After epoch 23: Weight is 1.0439557047312 and Bias is -0.06495033329494543\n",
            "After epoch 24: Weight is 1.591541773014265 and Bias is 0.0275513015953458\n",
            "After epoch 25: Weight is 2.0283018645989315 and Bias is 0.004434619356956229\n",
            "After epoch 26: Weight is 2.3678278122550034 and Bias is -0.12117101321861044\n",
            "After epoch 27: Weight is 2.6208350669744105 and Bias is -0.33817908844372063\n",
            "After epoch 28: Weight is 2.7957278410590667 and Bias is -0.638332428128527\n",
            "After epoch 29: Weight is 2.900452787838178 and Bias is -1.0131440707926926\n",
            "After epoch 30: Weight is 2.945640476448049 and Bias is -1.4478407878685182\n",
            "After epoch 31: Weight is 2.9473826173113977 and Bias is -1.9158778989473424\n",
            "After epoch 32: Weight is 2.9251625315185836 and Bias is -2.3830603415456926\n",
            "After epoch 33: Weight is 2.894867540929329 and Bias is -2.8214731498568004\n",
            "After epoch 34: Weight is 2.864845909037988 and Bias is -3.2174008914501857\n",
            "After epoch 35: Weight is 2.83751794561998 and Bias is -3.568316377402982\n",
            "After epoch 36: Weight is 2.812433662773912 and Bias is -3.8771846409671094\n",
            "After epoch 37: Weight is 2.7884461795768467 and Bias is -4.1487137534545715\n",
            "After epoch 38: Weight is 2.764989196905156 and Bias is -4.387529372326379\n",
            "After epoch 39: Weight is 2.7428745432388264 and Bias is -4.5973674596467\n",
            "After epoch 40: Weight is 2.7247683723149616 and Bias is -4.780747072076992\n",
            "After epoch 41: Weight is 2.715150218072187 and Bias is -4.9389822852669925\n",
            "After epoch 42: Weight is 2.719348391558471 and Bias is -5.072607191785235\n",
            "After epoch 43: Weight is 2.7415741188938836 and Bias is -5.182212836983603\n",
            "After epoch 44: Weight is 2.7828395517191202 and Bias is -5.2693322890733585\n",
            "After epoch 45: Weight is 2.8402260770807652 and Bias is -5.3367847773599175\n",
            "After epoch 46: Weight is 2.908064594627415 and Bias is -5.388252561117523\n",
            "After epoch 47: Weight is 2.9800452571182134 and Bias is -5.427481179028576\n",
            "After epoch 48: Weight is 3.0508706743669087 and Bias is -5.457655368589124\n",
            "After epoch 49: Weight is 3.1168976250690994 and Bias is -5.481171848068905\n",
            "After epoch 50: Weight is 3.1760312669691375 and Bias is -5.499703993123715\n",
            "After epoch 51: Weight is 3.2273265947331766 and Bias is -5.514377913573809\n",
            "After epoch 52: Weight is 3.2705834032366536 and Bias is -5.525946938806853\n",
            "After epoch 53: Weight is 3.306037129688553 and Bias is -5.534924822226117\n",
            "After epoch 54: Weight is 3.3341522914891573 and Bias is -5.541675899918792\n",
            "After epoch 55: Weight is 3.3554947699895648 and Bias is -5.546472331769068\n",
            "After epoch 56: Weight is 3.370657232289908 and Bias is -5.549529120270681\n",
            "After epoch 57: Weight is 3.38021812253414 and Bias is -5.551024999887588\n",
            "After epoch 58: Weight is 3.384721142850667 and Bias is -5.5511145989766515\n",
            "After epoch 59: Weight is 3.3846670095351086 and Bias is -5.549935269444468\n",
            "After epoch 60: Weight is 3.3805124996750417 and Bias is -5.547610649221163\n",
            "After epoch 61: Weight is 3.372673831050741 and Bias is -5.544252187456788\n",
            "After epoch 62: Weight is 3.3615326540324655 and Bias is -5.539959352639401\n",
            "After epoch 63: Weight is 3.347443669093574 and Bias is -5.534818939926078\n",
            "After epoch 64: Weight is 3.330743300599581 and Bias is -5.528903720542241\n",
            "After epoch 65: Weight is 3.3117590630703297 and Bias is -5.522270589362702\n",
            "After epoch 66: Weight is 3.290819306266494 and Bias is -5.514958343610032\n",
            "After epoch 67: Weight is 3.268262945893698 and Bias is -5.506985255428453\n",
            "After epoch 68: Weight is 3.2444485889439956 and Bias is -5.498346679307821\n",
            "After epoch 69: Weight is 3.2197621609806566 and Bias is -5.489013056446963\n",
            "After epoch 70: Weight is 3.19462177479654 and Bias is -5.47892882742384\n",
            "After epoch 71: Weight is 3.1694782311643444 and Bias is -5.4680129082960685\n",
            "After epoch 72: Weight is 3.1448093653224354 and Bias is -5.456161462855579\n",
            "After epoch 73: Weight is 3.121106663626337 and Bias is -5.443253628742469\n",
            "After epoch 74: Weight is 3.0988534001407966 and Bias is -5.429160536196298\n",
            "After epoch 75: Weight is 3.078495098600282 and Bias is -5.413757347559793\n",
            "After epoch 76: Weight is 3.060405250430836 and Bias is -5.396937204993974\n",
            "After epoch 77: Weight is 3.0448513635348746 and Bias is -5.378625120342114\n",
            "After epoch 78: Weight is 3.031967719601771 and Bias is -5.3587893155107125\n",
            "After epoch 79: Weight is 3.021740865344557 and Bias is -5.337447648241705\n",
            "After epoch 80: Weight is 3.0140115845009627 and Bias is -5.314667645886597\n",
            "After epoch 81: Weight is 3.0084934750177963 and Bias is -5.2905600895369105\n",
            "After epoch 82: Weight is 3.0048045472208815 and Bias is -5.265267545312523\n",
            "After epoch 83: Weight is 3.002505773648485 and Bias is -5.238950210893752\n",
            "After epoch 84: Weight is 3.0011399616091006 and Bias is -5.211771656983696\n",
            "After epoch 85: Weight is 3.0002655230809783 and Bias is -5.183886561571124\n",
            "After epoch 86: Weight is 2.9994819061135214 and Bias is -5.155431668880471\n",
            "After epoch 87: Weight is 2.9984457294594615 and Bias is -5.126520310357935\n",
            "After epoch 88: Weight is 2.996878402168333 and Bias is -5.097240148075359\n",
            "After epoch 89: Weight is 2.994566985585611 and Bias is -5.067653428729932\n",
            "After epoch 90: Weight is 2.9913603489137297 and Bias is -5.037798933790532\n",
            "After epoch 91: Weight is 2.9871625062330485 and Bias is -5.007694887286968\n",
            "After epoch 92: Weight is 2.9819246351975948 and Bias is -4.977342244251972\n",
            "After epoch 93: Weight is 2.9756368376484796 and Bias is -4.946727961678862\n",
            "After epoch 94: Weight is 2.9683203088668724 and Bias is -4.915828011440799\n",
            "After epoch 95: Weight is 2.9600202756160847 and Bias is -4.884610015629841\n",
            "After epoch 96: Weight is 2.9507998479339226 and Bias is -4.853035468214828\n",
            "After epoch 97: Weight is 2.9407347927460648 and Bias is -4.8210615586141925\n",
            "After epoch 98: Weight is 2.929909160156939 and Bias is -4.788642640594543\n",
            "After epoch 99: Weight is 2.918411657864793 and Bias is -4.755731401244094\n",
            "After epoch 100: Weight is 2.9063326609228484 and Bias is -4.722279785616352\n"
          ]
        }
      ]
    },
    {
      "cell_type": "code",
      "source": [
        "epoch = [i for i in range(1, 101)]"
      ],
      "metadata": {
        "id": "IVbHsOI2MLP4"
      },
      "execution_count": 51,
      "outputs": []
    },
    {
      "cell_type": "code",
      "source": [
        "plt.plot(epoch, err_mom) \n",
        "plt.xlabel(\"Epoch\") \n",
        "plt.ylabel(\"Error\") \n",
        "plt.show()"
      ],
      "metadata": {
        "colab": {
          "base_uri": "https://localhost:8080/",
          "height": 0
        },
        "id": "v2uSBto5hvqL",
        "outputId": "293c9daf-8680-445c-f859-13c4c0f619b0"
      },
      "execution_count": 52,
      "outputs": [
        {
          "output_type": "display_data",
          "data": {
            "text/plain": [
              "<Figure size 432x288 with 1 Axes>"
            ],
            "image/png": "[encoded data removed]"
          },
          "metadata": {
            "needs_background": "light"
          }
        }
      ]
    },
    {
      "cell_type": "code",
      "source": [
        "plt.plot(wt_mom, err_mom) \n",
        "plt.xlabel(\"Weight\") \n",
        "plt.ylabel(\"Error\") \n",
        "plt.show()"
      ],
      "metadata": {
        "colab": {
          "base_uri": "https://localhost:8080/",
          "height": 0
        },
        "id": "9WuJRO4Fh3Zm",
        "outputId": "722e4c3f-c003-41af-b363-185b95913d06"
      },
      "execution_count": 53,
      "outputs": [
        {
          "output_type": "display_data",
          "data": {
            "text/plain": [
              "<Figure size 432x288 with 1 Axes>"
            ],
            "image/png": "[encoded data removed]"
          },
          "metadata": {
            "needs_background": "light"
          }
        }
      ]
    },
    {
      "cell_type": "markdown",
      "source": [
        "# **ADAGRAD**"
      ],
      "metadata": {
        "id": "ibY3YQBojMN-"
      }
    },
    {
      "cell_type": "code",
      "source": [
        "def adagrad_gd(X, Y, epochs): \n",
        "  w = -2 \n",
        "  b = -2 \n",
        "  c = 1 \n",
        "  eta = 1 \n",
        "  eps = 2 \n",
        "  err_list = [] \n",
        "  W = [] \n",
        "  B = [] \n",
        "  v_w = 0 \n",
        "  v_b = 0 \n",
        "  for i in range(epochs): \n",
        "    temp_dw = 0 \n",
        "    temp_db = 0 \n",
        "    for x, y in zip(X, Y): \n",
        "      y_hat = sigmoid(x, w, b)\n",
        "      temp_dw += delta_w(x, y, y_hat, c) \n",
        "      temp_db += delta_b(y, y_hat, c) \n",
        "\n",
        "    v_w = v_w + temp_dw**2 \n",
        "    v_b = v_b + temp_db**2 \n",
        "\n",
        "    w = w - (eta*temp_dw)/(np.sqrt(v_w + eps)) \n",
        "    b = b - (eta*temp_db)/(np.sqrt(v_w + eps)) \n",
        "\n",
        "    W.append(w) \n",
        "    B.append(b) \n",
        "    err_list.append(error(Y, sigmoid(X, w, b))) \n",
        "    print(f\"After epoch {i+1}: Weight is {w} and Bias is {w}\") \n",
        "  return W, B, err_list "
      ],
      "metadata": {
        "id": "E6Fpq6VajOsq"
      },
      "execution_count": 54,
      "outputs": []
    },
    {
      "cell_type": "code",
      "source": [
        "wt_adagrad, bias_adagrad, err_adagrad = adagrad_gd(X, Y, 100)"
      ],
      "metadata": {
        "colab": {
          "base_uri": "https://localhost:8080/"
        },
        "id": "v-H0ZzoqliD3",
        "outputId": "c85289ab-adde-4f81-fa13-0507d222942a"
      },
      "execution_count": 55,
      "outputs": [
        {
          "output_type": "stream",
          "name": "stdout",
          "text": [
            "After epoch 1: Weight is -1.9961163731260243 and Bias is -1.9961163731260243\n",
            "After epoch 2: Weight is -1.9921997690241617 and Bias is -1.9921997690241617\n",
            "After epoch 3: Weight is -1.988249627035326 and Bias is -1.988249627035326\n",
            "After epoch 4: Weight is -1.9842653717236984 and Bias is -1.9842653717236984\n",
            "After epoch 5: Weight is -1.9802464123397214 and Bias is -1.9802464123397214\n",
            "After epoch 6: Weight is -1.976192142258107 and Bias is -1.976192142258107\n",
            "After epoch 7: Weight is -1.9721019383894467 and Bias is -1.9721019383894467\n",
            "After epoch 8: Weight is -1.9679751605639109 and Bias is -1.9679751605639109\n",
            "After epoch 9: Weight is -1.9638111508854283 and Bias is -1.9638111508854283\n",
            "After epoch 10: Weight is -1.9596092330546249 and Bias is -1.9596092330546249\n",
            "After epoch 11: Weight is -1.9553687116586813 and Bias is -1.9553687116586813\n",
            "After epoch 12: Weight is -1.9510888714261458 and Bias is -1.9510888714261458\n",
            "After epoch 13: Weight is -1.9467689764445975 and Bias is -1.9467689764445975\n",
            "After epoch 14: Weight is -1.9424082693389075 and Bias is -1.9424082693389075\n",
            "After epoch 15: Weight is -1.9380059704076877 and Bias is -1.9380059704076877\n",
            "After epoch 16: Weight is -1.9335612767153374 and Bias is -1.9335612767153374\n",
            "After epoch 17: Weight is -1.9290733611369164 and Bias is -1.9290733611369164\n",
            "After epoch 18: Weight is -1.9245413713528652 and Bias is -1.9245413713528652\n",
            "After epoch 19: Weight is -1.9199644287903712 and Bias is -1.9199644287903712\n",
            "After epoch 20: Weight is -1.9153416275079436 and Bias is -1.9153416275079436\n",
            "After epoch 21: Weight is -1.9106720330194953 and Bias is -1.9106720330194953\n",
            "After epoch 22: Weight is -1.9059546810539485 and Bias is -1.9059546810539485\n",
            "After epoch 23: Weight is -1.9011885762460716 and Bias is -1.9011885762460716\n",
            "After epoch 24: Weight is -1.8963726907539178 and Bias is -1.8963726907539178\n",
            "After epoch 25: Weight is -1.8915059627978725 and Bias is -1.8915059627978725\n",
            "After epoch 26: Weight is -1.8865872951159148 and Bias is -1.8865872951159148\n",
            "After epoch 27: Weight is -1.88161555332926 and Bias is -1.88161555332926\n",
            "After epoch 28: Weight is -1.8765895642120785 and Bias is -1.8765895642120785\n",
            "After epoch 29: Weight is -1.8715081138584586 and Bias is -1.8715081138584586\n",
            "After epoch 30: Weight is -1.866369945739212 and Bias is -1.866369945739212\n",
            "After epoch 31: Weight is -1.8611737586404924 and Bias is -1.8611737586404924\n",
            "After epoch 32: Weight is -1.8559182044755107 and Bias is -1.8559182044755107\n",
            "After epoch 33: Weight is -1.850601885959873 and Bias is -1.850601885959873\n",
            "After epoch 34: Weight is -1.8452233541402348 and Bias is -1.8452233541402348\n",
            "After epoch 35: Weight is -1.8397811057650524 and Bias is -1.8397811057650524\n",
            "After epoch 36: Weight is -1.8342735804851986 and Bias is -1.8342735804851986\n",
            "After epoch 37: Weight is -1.828699157871098 and Bias is -1.828699157871098\n",
            "After epoch 38: Weight is -1.8230561542318031 and Bias is -1.8230561542318031\n",
            "After epoch 39: Weight is -1.8173428192200731 and Bias is -1.8173428192200731\n",
            "After epoch 40: Weight is -1.8115573322060052 and Bias is -1.8115573322060052\n",
            "After epoch 41: Weight is -1.8056977984000913 and Bias is -1.8056977984000913\n",
            "After epoch 42: Weight is -1.7997622447047201 and Bias is -1.7997622447047201\n",
            "After epoch 43: Weight is -1.7937486152710673 and Bias is -1.7937486152710673\n",
            "After epoch 44: Weight is -1.787654766736018 and Bias is -1.787654766736018\n",
            "After epoch 45: Weight is -1.7814784631111948 and Bias is -1.7814784631111948\n",
            "After epoch 46: Weight is -1.7752173702932887 and Bias is -1.7752173702932887\n",
            "After epoch 47: Weight is -1.7688690501616882 and Bias is -1.7688690501616882\n",
            "After epoch 48: Weight is -1.7624309542257912 and Bias is -1.7624309542257912\n",
            "After epoch 49: Weight is -1.755900416780357 and Bias is -1.755900416780357\n",
            "After epoch 50: Weight is -1.7492746475227052 and Bias is -1.7492746475227052\n",
            "After epoch 51: Weight is -1.7425507235804667 and Bias is -1.7425507235804667\n",
            "After epoch 52: Weight is -1.7357255808928156 and Bias is -1.7357255808928156\n",
            "After epoch 53: Weight is -1.7287960048816031 and Bias is -1.7287960048816031\n",
            "After epoch 54: Weight is -1.7217586203414341 and Bias is -1.7217586203414341\n",
            "After epoch 55: Weight is -1.7146098804693588 and Bias is -1.7146098804693588\n",
            "After epoch 56: Weight is -1.7073460549453492 and Bias is -1.7073460549453492\n",
            "After epoch 57: Weight is -1.699963216963895 and Bias is -1.699963216963895\n",
            "After epoch 58: Weight is -1.6924572291047038 and Bias is -1.6924572291047038\n",
            "After epoch 59: Weight is -1.6848237279163554 and Bias is -1.6848237279163554\n",
            "After epoch 60: Weight is -1.6770581070705644 and Bias is -1.6770581070705644\n",
            "After epoch 61: Weight is -1.6691554989261024 and Bias is -1.6691554989261024\n",
            "After epoch 62: Weight is -1.661110754320002 and Bias is -1.661110754320002\n",
            "After epoch 63: Weight is -1.6529184203789349 and Bias is -1.6529184203789349\n",
            "After epoch 64: Weight is -1.6445727161150294 and Bias is -1.6445727161150294\n",
            "After epoch 65: Weight is -1.6360675055371874 and Bias is -1.6360675055371874\n",
            "After epoch 66: Weight is -1.627396267970303 and Bias is -1.627396267970303\n",
            "After epoch 67: Weight is -1.6185520652297067 and Bias is -1.6185520652297067\n",
            "After epoch 68: Weight is -1.6095275052453808 and Bias is -1.6095275052453808\n",
            "After epoch 69: Weight is -1.6003147016685473 and Bias is -1.6003147016685473\n",
            "After epoch 70: Weight is -1.5909052289202983 and Bias is -1.5909052289202983\n",
            "After epoch 71: Weight is -1.5812900720557501 and Bias is -1.5812900720557501\n",
            "After epoch 72: Weight is -1.5714595707150507 and Bias is -1.5714595707150507\n",
            "After epoch 73: Weight is -1.561403356311022 and Bias is -1.561403356311022\n",
            "After epoch 74: Weight is -1.551110281458083 and Bias is -1.551110281458083\n",
            "After epoch 75: Weight is -1.5405683404731088 and Bias is -1.5405683404731088\n",
            "After epoch 76: Weight is -1.5297645795694634 and Bias is -1.5297645795694634\n",
            "After epoch 77: Weight is -1.518684995112333 and Bias is -1.518684995112333\n",
            "After epoch 78: Weight is -1.507314417996183 and Bias is -1.507314417996183\n",
            "After epoch 79: Weight is -1.4956363818303904 and Bias is -1.4956363818303904\n",
            "After epoch 80: Weight is -1.4836329721597923 and Bias is -1.4836329721597923\n",
            "After epoch 81: Weight is -1.4712846533811699 and Bias is -1.4712846533811699\n",
            "After epoch 82: Weight is -1.4585700693161658 and Bias is -1.4585700693161658\n",
            "After epoch 83: Weight is -1.4454658125288875 and Bias is -1.4454658125288875\n",
            "After epoch 84: Weight is -1.431946156384002 and Bias is -1.431946156384002\n",
            "After epoch 85: Weight is -1.4179827424644837 and Bias is -1.4179827424644837\n",
            "After epoch 86: Weight is -1.4035442142221295 and Bias is -1.4035442142221295\n",
            "After epoch 87: Weight is -1.388595785504251 and Bias is -1.388595785504251\n",
            "After epoch 88: Weight is -1.3730987297320867 and Bias is -1.3730987297320867\n",
            "After epoch 89: Weight is -1.3570097717896585 and Bias is -1.3570097717896585\n",
            "After epoch 90: Weight is -1.3402803598259436 and Bias is -1.3402803598259436\n",
            "After epoch 91: Weight is -1.3228557877751481 and Bias is -1.3228557877751481\n",
            "After epoch 92: Weight is -1.3046741308936092 and Bias is -1.3046741308936092\n",
            "After epoch 93: Weight is -1.2856649451944717 and Bias is -1.2856649451944717\n",
            "After epoch 94: Weight is -1.265747666180898 and Bias is -1.265747666180898\n",
            "After epoch 95: Weight is -1.2448296210632115 and Bias is -1.2448296210632115\n",
            "After epoch 96: Weight is -1.222803539238343 and Bias is -1.222803539238343\n",
            "After epoch 97: Weight is -1.1995444045549952 and Bias is -1.1995444045549952\n",
            "After epoch 98: Weight is -1.1749054342711431 and Bias is -1.1749054342711431\n",
            "After epoch 99: Weight is -1.148712885202649 and Bias is -1.148712885202649\n",
            "After epoch 100: Weight is -1.1207592642998123 and Bias is -1.1207592642998123\n"
          ]
        }
      ]
    },
    {
      "cell_type": "code",
      "source": [
        "plt.plot(epoch, err_adagrad) \n",
        "plt.xlabel(\"Epoch\") \n",
        "plt.ylabel(\"Error\") \n",
        "plt.show()"
      ],
      "metadata": {
        "colab": {
          "base_uri": "https://localhost:8080/",
          "height": 279
        },
        "id": "17nNXhqOlq8c",
        "outputId": "78e2704b-d9a3-4f7b-c274-1c45d631a095"
      },
      "execution_count": 56,
      "outputs": [
        {
          "output_type": "display_data",
          "data": {
            "text/plain": [
              "<Figure size 432x288 with 1 Axes>"
            ],
            "image/png": "[encoded data removed]"
          },
          "metadata": {
            "needs_background": "light"
          }
        }
      ]
    },
    {
      "cell_type": "code",
      "source": [
        "plt.plot(wt_adagrad, err_adagrad) \n",
        "plt.xlabel(\"Weight\") \n",
        "plt.ylabel(\"Error\") \n",
        "plt.show()"
      ],
      "metadata": {
        "colab": {
          "base_uri": "https://localhost:8080/",
          "height": 279
        },
        "id": "UmgBu3bRl1_0",
        "outputId": "1ce5fcf0-84df-4dda-b3da-2657e59da2b0"
      },
      "execution_count": 57,
      "outputs": [
        {
          "output_type": "display_data",
          "data": {
            "text/plain": [
              "<Figure size 432x288 with 1 Axes>"
            ],
            "image/png": "[encoded data removed]"
          },
          "metadata": {
            "needs_background": "light"
          }
        }
      ]
    },
    {
      "cell_type": "markdown",
      "source": [
        "# **ADADELTA / RMSPROP**"
      ],
      "metadata": {
        "id": "SpdR-BG1iceP"
      }
    },
    {
      "cell_type": "code",
      "source": [
        "def adadelta(X, Y, epochs): \n",
        "  w = -2 \n",
        "  b = -2 \n",
        "  c = 1 \n",
        "  beta = 0.9\n",
        "  eta = 1 \n",
        "  eps = 2  \n",
        "  vw = 0 \n",
        "  vb = 0 \n",
        "  W = [] \n",
        "  B = [] \n",
        "  err_list = [] \n",
        "  for i in range(epochs): \n",
        "    temp_dw = 0 \n",
        "    temp_db = 0 \n",
        "    for x, y in zip(X, Y): \n",
        "      y_hat = sigmoid(x, w, b) \n",
        "      temp_dw += delta_w(x, y, y_hat, c) \n",
        "      temp_db += delta_b(y, y_hat, c) \n",
        "    \n",
        "    vw = beta*vw + (1-beta)*temp_dw*temp_dw \n",
        "    vb = beta*vb + (1-beta)*temp_db*temp_db \n",
        "\n",
        "    w = w - (eta*temp_dw)/(np.sqrt(vw) + eps) \n",
        "    b = b - (eta*temp_db)/(np.sqrt(vb) + eps) \n",
        "\n",
        "    W.append(w) \n",
        "    B.append(b) \n",
        "    err_list.append(error(Y, sigmoid(X, w, b))) \n",
        "    print(f\"After epoch {i+1}: Weight is {w} and Bias is {b}\") \n",
        "  return W, B, err_list "
      ],
      "metadata": {
        "id": "Zmm0wcI0igg-"
      },
      "execution_count": 58,
      "outputs": []
    },
    {
      "cell_type": "code",
      "source": [
        "wt_adadelta, bias_adadelta, err_adadelta = adadelta(X, Y, 100)"
      ],
      "metadata": {
        "colab": {
          "base_uri": "https://localhost:8080/"
        },
        "id": "N9vwI_YJn-ng",
        "outputId": "2df5d6fa-6a28-4c60-fdc7-3f6503e61fab"
      },
      "execution_count": 59,
      "outputs": [
        {
          "output_type": "stream",
          "name": "stdout",
          "text": [
            "After epoch 1: Weight is -1.997256223120722 and Bias is -1.996149115549856\n",
            "After epoch 2: Weight is -1.9944969137492197 and Bias is -1.9922846915691401\n",
            "After epoch 3: Weight is -1.991721630266128 and Bias is -1.9884061189900286\n",
            "After epoch 4: Weight is -1.9889300439145556 and Bias is -1.9845130209655755\n",
            "After epoch 5: Weight is -1.98612186832929 and Bias is -1.9806051122513006\n",
            "After epoch 6: Weight is -1.9832968374940776 and Bias is -1.9766821551811036\n",
            "After epoch 7: Weight is -1.9804546961420402 and Bias is -1.972743940529913\n",
            "After epoch 8: Weight is -1.9775951947437587 and Bias is -1.9687902775779045\n",
            "After epoch 9: Weight is -1.9747180865583769 and Bias is -1.9648209883258405\n",
            "After epoch 10: Weight is -1.9718231257404712 and Bias is -1.960835903842981\n",
            "After epoch 11: Weight is -1.9689100660390884 and Bias is -1.9568348618169353\n",
            "After epoch 12: Weight is -1.9659786598524254 and Bias is -1.9528177048299284\n",
            "After epoch 13: Weight is -1.963028657507652 and Bias is -1.9487842790987544\n",
            "After epoch 14: Weight is -1.960059806689259 and Bias is -1.9447344335240224\n",
            "After epoch 15: Weight is -1.9570718519686225 and Bias is -1.9406680189533059\n",
            "After epoch 16: Weight is -1.9540645344043166 and Bias is -1.9365848875967595\n",
            "After epoch 17: Weight is -1.9510375911928157 and Bias is -1.9324848925542184\n",
            "After epoch 18: Weight is -1.9479907553555664 and Bias is -1.9283678874255998\n",
            "After epoch 19: Weight is -1.9449237554524867 and Bias is -1.924233725984718\n",
            "After epoch 20: Weight is -1.9418363153146654 and Bias is -1.9200822619021434\n",
            "After epoch 21: Weight is -1.9387281537908851 and Bias is -1.915913348506513\n",
            "After epoch 22: Weight is -1.935598984503877 and Bias is -1.9117268385763306\n",
            "After epoch 23: Weight is -1.9324485156131261 and Bias is -1.9075225841561803\n",
            "After epoch 24: Weight is -1.9292764495817065 and Bias is -1.9033004363926365\n",
            "After epoch 25: Weight is -1.9260824829451026 and Bias is -1.899060245386159\n",
            "After epoch 26: Weight is -1.922866306080328 and Bias is -1.8948018600560153\n",
            "After epoch 27: Weight is -1.9196276029739199 and Bias is -1.8905251280158393\n",
            "After epoch 28: Weight is -1.9163660509875853 and Bias is -1.8862298954578753\n",
            "After epoch 29: Weight is -1.913081320620422 and Bias is -1.881916007044292\n",
            "After epoch 30: Weight is -1.9097730752667557 and Bias is -1.8775833058042173\n",
            "After epoch 31: Weight is -1.9064409709687131 and Bias is -1.8732316330353547\n",
            "After epoch 32: Weight is -1.9030846561627208 and Bias is -1.8688608282092054\n",
            "After epoch 33: Weight is -1.8997037714191556 and Bias is -1.864470728879055\n",
            "After epoch 34: Weight is -1.8962979491744145 and Bias is -1.8600611705899894\n",
            "After epoch 35: Weight is -1.8928668134546833 and Bias is -1.855631986790293\n",
            "After epoch 36: Weight is -1.8894099795906996 and Bias is -1.8511830087436476\n",
            "After epoch 37: Weight is -1.8859270539228072 and Bias is -1.8467140654416088\n",
            "After epoch 38: Weight is -1.8824176334955949 and Bias is -1.8422249835158853\n",
            "After epoch 39: Weight is -1.8788813057414024 and Bias is -1.837715587149976\n",
            "After epoch 40: Weight is -1.8753176481519644 and Bias is -1.8331856979897547\n",
            "After epoch 41: Weight is -1.871726227937438 and Bias is -1.8286351350526113\n",
            "After epoch 42: Weight is -1.868106601672039 and Bias is -1.824063714634778\n",
            "After epoch 43: Weight is -1.8644583149254812 and Bias is -1.8194712502164785\n",
            "After epoch 44: Weight is -1.8607809018793813 and Bias is -1.8148575523645503\n",
            "After epoch 45: Weight is -1.8570738849277484 and Bias is -1.8102224286321915\n",
            "After epoch 46: Weight is -1.853336774260644 and Bias is -1.8055656834554876\n",
            "After epoch 47: Weight is -1.8495690674300431 and Bias is -1.8008871180463706\n",
            "After epoch 48: Weight is -1.845770248896883 and Bias is -1.7961865302816593\n",
            "After epoch 49: Weight is -1.8419397895582241 and Bias is -1.7914637145878225\n",
            "After epoch 50: Weight is -1.838077146253392 and Bias is -1.7867184618210972\n",
            "After epoch 51: Weight is -1.8341817612478992 and Bias is -1.7819505591425828\n",
            "After epoch 52: Weight is -1.8302530616938777 and Bias is -1.7771597898879152\n",
            "After epoch 53: Weight is -1.8262904590656708 and Bias is -1.7723459334311114\n",
            "After epoch 54: Weight is -1.8222933485691548 and Bias is -1.7675087650421533\n",
            "After epoch 55: Weight is -1.8182611085232645 and Bias is -1.7626480557378579\n",
            "After epoch 56: Weight is -1.8141930997121032 and Bias is -1.7577635721255567\n",
            "After epoch 57: Weight is -1.8100886647059082 and Bias is -1.7528550762390798\n",
            "After epoch 58: Weight is -1.8059471271490317 and Bias is -1.7479223253665082\n",
            "After epoch 59: Weight is -1.80176779101297 and Bias is -1.742965071869128\n",
            "After epoch 60: Weight is -1.7975499398123436 and Bias is -1.737983062990979\n",
            "After epoch 61: Weight is -1.7932928357815836 and Bias is -1.7329760406583505\n",
            "After epoch 62: Weight is -1.7889957190099233 and Bias is -1.7279437412685388\n",
            "After epoch 63: Weight is -1.7846578065321277 and Bias is -1.7228858954671222\n",
            "After epoch 64: Weight is -1.7802782913722064 and Bias is -1.7178022279129663\n",
            "After epoch 65: Weight is -1.7758563415371587 and Bias is -1.7126924570301085\n",
            "After epoch 66: Weight is -1.7713910989575847 and Bias is -1.7075562947456109\n",
            "After epoch 67: Weight is -1.766881678371762 and Bias is -1.7023934462123997\n",
            "After epoch 68: Weight is -1.7623271661495323 and Bias is -1.697203609516038\n",
            "After epoch 69: Weight is -1.7577266190520686 and Bias is -1.691986475364293\n",
            "After epoch 70: Weight is -1.7530790629232946 and Bias is -1.6867417267582698\n",
            "After epoch 71: Weight is -1.7483834913083969 and Bias is -1.6814690386437916\n",
            "After epoch 72: Weight is -1.7436388639945215 and Bias is -1.676168077541592\n",
            "After epoch 73: Weight is -1.7388441054683534 and Bias is -1.6708385011547726\n",
            "After epoch 74: Weight is -1.7339981032848573 and Bias is -1.6654799579518529\n",
            "After epoch 75: Weight is -1.7290997063409972 and Bias is -1.6600920867235938\n",
            "After epoch 76: Weight is -1.7241477230477449 and Bias is -1.65467451611163\n",
            "After epoch 77: Weight is -1.7191409193931373 and Bias is -1.6492268641067727\n",
            "After epoch 78: Weight is -1.714078016888536 and Bias is -1.6437487375146607\n",
            "After epoch 79: Weight is -1.7089576903895807 and Bias is -1.638239731386238\n",
            "After epoch 80: Weight is -1.7037785657826003 and Bias is -1.6326994284103091\n",
            "After epoch 81: Weight is -1.698539217526443 and Bias is -1.627127398265177\n",
            "After epoch 82: Weight is -1.693238166038812 and Bias is -1.6215231969261028\n",
            "After epoch 83: Weight is -1.687873874915219 and Bias is -1.6158863659250189\n",
            "After epoch 84: Weight is -1.6824447479676063 and Bias is -1.6102164315586045\n",
            "After epoch 85: Weight is -1.676949126068507 and Bias is -1.6045129040404635\n",
            "After epoch 86: Weight is -1.6713852837853078 and Bias is -1.5987752765927372\n",
            "After epoch 87: Weight is -1.665751425787747 and Bias is -1.593003024472042\n",
            "After epoch 88: Weight is -1.6600456830101773 and Bias is -1.5871956039241177\n",
            "After epoch 89: Weight is -1.6542661085483583 and Bias is -1.5813524510610244\n",
            "After epoch 90: Weight is -1.6484106732685762 and Bias is -1.5754729806541015\n",
            "After epoch 91: Weight is -1.6424772611047063 and Bias is -1.5695565848352269\n",
            "After epoch 92: Weight is -1.6364636640163976 and Bias is -1.563602631698138\n",
            "After epoch 93: Weight is -1.6303675765788483 and Bias is -1.5576104637907258\n",
            "After epoch 94: Weight is -1.6241865901716068 and Bias is -1.5515793964882545\n",
            "After epoch 95: Weight is -1.61791818673045 and Bias is -1.5455087162363816\n",
            "After epoch 96: Weight is -1.6115597320225856 and Bias is -1.5393976786516534\n",
            "After epoch 97: Weight is -1.6051084684011736 and Bias is -1.5332455064657913\n",
            "After epoch 98: Weight is -1.5985615069903676 and Bias is -1.5270513872985576\n",
            "After epoch 99: Weight is -1.5919158192466938 and Bias is -1.5208144712422735\n",
            "After epoch 100: Weight is -1.585168227836503 and Bias is -1.5145338682391065\n"
          ]
        }
      ]
    },
    {
      "cell_type": "code",
      "source": [
        "plt.plot(epoch, err_adadelta) \n",
        "plt.xlabel(\"Epoch\") \n",
        "plt.ylabel(\"Error\") \n",
        "plt.show()"
      ],
      "metadata": {
        "colab": {
          "base_uri": "https://localhost:8080/",
          "height": 279
        },
        "id": "9mURfZnyoEes",
        "outputId": "ff1b7750-383b-4fc9-c192-39d621f7fa11"
      },
      "execution_count": 60,
      "outputs": [
        {
          "output_type": "display_data",
          "data": {
            "text/plain": [
              "<Figure size 432x288 with 1 Axes>"
            ],
            "image/png": "[encoded data removed]"
          },
          "metadata": {
            "needs_background": "light"
          }
        }
      ]
    },
    {
      "cell_type": "code",
      "source": [
        "plt.plot(wt_adadelta, err_adadelta) \n",
        "plt.xlabel(\"Weights\") \n",
        "plt.ylabel(\"Error\") \n",
        "plt.show()"
      ],
      "metadata": {
        "colab": {
          "base_uri": "https://localhost:8080/",
          "height": 279
        },
        "id": "t9HkW6nIoIjv",
        "outputId": "bc79e081-5861-44db-d5a8-251363f822fe"
      },
      "execution_count": 61,
      "outputs": [
        {
          "output_type": "display_data",
          "data": {
            "text/plain": [
              "<Figure size 432x288 with 1 Axes>"
            ],
            "image/png": "[encoded data removed]"
          },
          "metadata": {
            "needs_background": "light"
          }
        }
      ]
    },
    {
      "cell_type": "markdown",
      "source": [
        "# **NAG**"
      ],
      "metadata": {
        "id": "_00O8RyfoTi_"
      }
    },
    {
      "cell_type": "code",
      "source": [
        "def nag_gd(X, Y, epochs): \n",
        "  w = -2 \n",
        "  b = -2 \n",
        "  c = 1 \n",
        "  eta = 1 \n",
        "  beta = 0.9 \n",
        "  W = [] \n",
        "  B = [] \n",
        "  err_list = [] \n",
        "  prev_vw = 0 \n",
        "  prev_vb = 0 \n",
        "  for i in range(epochs): \n",
        "    temp_dw = 0\n",
        "    temp_db = 0 \n",
        "    vw = w - beta*prev_vw  \n",
        "    vb = b - beta*prev_vb \n",
        "    for x, y in zip(X, Y): \n",
        "      y_hat = sigmoid(x, vw, vb) \n",
        "      temp_dw += delta_w(x, y, y_hat, c) \n",
        "      temp_db += delta_b(y, y_hat, c) \n",
        "    v_w = beta*prev_vw + eta*temp_dw \n",
        "    v_b = beta*prev_vb + eta*temp_db \n",
        "\n",
        "    w = w - v_w \n",
        "    b = b - v_b \n",
        "    prev_vw = vw \n",
        "    prev_vb = vb \n",
        "    W.append(w) \n",
        "    B.append(b) \n",
        "    err_list.append(error(Y, sigmoid(X, w, b)))\n",
        "    print(f\"After epoch {i+1}: Weight is {w} and Bias is {b}\") \n",
        "  return W, B, err_list"
      ],
      "metadata": {
        "id": "ilPKKMHaoQUa"
      },
      "execution_count": 62,
      "outputs": []
    },
    {
      "cell_type": "code",
      "source": [
        "wt_nag, bias_nag, err_nag = nag_gd(X, Y, 100)"
      ],
      "metadata": {
        "colab": {
          "base_uri": "https://localhost:8080/"
        },
        "id": "WedLl-X3rkGH",
        "outputId": "419965b0-a44c-4ae4-9dfa-cc36d7ada477"
      },
      "execution_count": 63,
      "outputs": [
        {
          "output_type": "stream",
          "name": "stdout",
          "text": [
            "After epoch 1: Weight is -1.99450768078436 and Bias is -1.9922888407847856\n",
            "After epoch 2: Weight is 0.09208752969883705 and Bias is -0.12233092205684715\n",
            "After epoch 3: Weight is 0.3496820549726968 and Bias is 0.015139237804713934\n",
            "After epoch 4: Weight is 0.28018745529876277 and Bias is -0.023339239295008182\n",
            "After epoch 5: Weight is 0.31190519273741324 and Bias is -0.00845939406294332\n",
            "After epoch 6: Weight is 0.2973070318717679 and Bias is -0.015577862980060121\n",
            "After epoch 7: Weight is 0.30410477691289906 and Bias is -0.012309312554174496\n",
            "After epoch 8: Weight is 0.3009367297700881 and Bias is -0.01384051547967325\n",
            "After epoch 9: Weight is 0.30241384383376124 and Bias is -0.01312827006823844\n",
            "After epoch 10: Weight is 0.3017250985067943 and Bias is -0.013460725734418671\n",
            "After epoch 11: Weight is 0.30204625170762817 and Bias is -0.013305782477370723\n",
            "After epoch 12: Weight is 0.301896501760589 and Bias is -0.013378047234044135\n",
            "After epoch 13: Weight is 0.3019663284864341 and Bias is -0.01334435458788299\n",
            "After epoch 14: Weight is 0.3019337690680355 and Bias is -0.013360065872763956\n",
            "After epoch 15: Weight is 0.30194895116163945 and Bias is -0.013352740046013532\n",
            "After epoch 16: Weight is 0.30194187192107524 and Bias is -0.013356156034132476\n",
            "After epoch 17: Weight is 0.3019451728919176 and Bias is -0.013354563205050407\n",
            "After epoch 18: Weight is 0.3019436336860834 and Bias is -0.013355305925208914\n",
            "After epoch 19: Weight is 0.30194435140057596 and Bias is -0.01335495960347295\n",
            "After epoch 20: Weight is 0.30194401673832344 and Bias is -0.013355121089513419\n",
            "After epoch 21: Weight is 0.30194417278759444 and Bias is -0.013355045790394083\n",
            "After epoch 22: Weight is 0.3019441000235621 and Bias is -0.01335508090153641\n",
            "After epoch 23: Weight is 0.3019441339526179 and Bias is -0.01335506452960366\n",
            "After epoch 24: Weight is 0.30194411813187805 and Bias is -0.013355072163653241\n",
            "After epoch 25: Weight is 0.30194412550891225 and Bias is -0.01335506860398125\n",
            "After epoch 26: Weight is 0.3019441220690836 and Bias is -0.013355070263816562\n",
            "After epoch 27: Weight is 0.30194412367303736 and Bias is -0.013355069489853898\n",
            "After epoch 28: Weight is 0.3019441229251316 and Bias is -0.013355069850744068\n",
            "After epoch 29: Weight is 0.30194412327387166 and Bias is -0.01335506968246502\n",
            "After epoch 30: Weight is 0.30194412311125807 and Bias is -0.013355069760931666\n",
            "After epoch 31: Weight is 0.3019441231870831 and Bias is -0.013355069724343527\n",
            "After epoch 32: Weight is 0.3019441231517268 and Bias is -0.01335506974140413\n",
            "After epoch 33: Weight is 0.30194412316821295 and Bias is -0.013355069733448986\n",
            "After epoch 34: Weight is 0.30194412316052555 and Bias is -0.013355069737158408\n",
            "After epoch 35: Weight is 0.3019441231641101 and Bias is -0.013355069735428726\n",
            "After epoch 36: Weight is 0.3019441231624387 and Bias is -0.013355069736235245\n",
            "After epoch 37: Weight is 0.30194412316321806 and Bias is -0.013355069735859142\n",
            "After epoch 38: Weight is 0.3019441231628547 and Bias is -0.013355069736034512\n",
            "After epoch 39: Weight is 0.30194412316302416 and Bias is -0.013355069735952761\n",
            "After epoch 40: Weight is 0.3019441231629451 and Bias is -0.01335506973599088\n",
            "After epoch 41: Weight is 0.3019441231629819 and Bias is -0.013355069735973106\n",
            "After epoch 42: Weight is 0.3019441231629647 and Bias is -0.013355069735981415\n",
            "After epoch 43: Weight is 0.30194412316297276 and Bias is -0.013355069735977554\n",
            "After epoch 44: Weight is 0.301944123162969 and Bias is -0.013355069735979382\n",
            "After epoch 45: Weight is 0.3019441231629707 and Bias is -0.01335506973597855\n",
            "After epoch 46: Weight is 0.3019441231629699 and Bias is -0.013355069735978902\n",
            "After epoch 47: Weight is 0.30194412316297026 and Bias is -0.013355069735978711\n",
            "After epoch 48: Weight is 0.30194412316297015 and Bias is -0.013355069735978779\n",
            "After epoch 49: Weight is 0.30194412316297026 and Bias is -0.013355069735978772\n",
            "After epoch 50: Weight is 0.30194412316297015 and Bias is -0.013355069735978803\n",
            "After epoch 51: Weight is 0.3019441231629702 and Bias is -0.013355069735978742\n",
            "After epoch 52: Weight is 0.30194412316297026 and Bias is -0.013355069735978763\n",
            "After epoch 53: Weight is 0.30194412316297026 and Bias is -0.01335506973597879\n",
            "After epoch 54: Weight is 0.30194412316297026 and Bias is -0.013355069735978765\n",
            "After epoch 55: Weight is 0.30194412316297026 and Bias is -0.013355069735978765\n",
            "After epoch 56: Weight is 0.30194412316297026 and Bias is -0.013355069735978763\n",
            "After epoch 57: Weight is 0.30194412316297026 and Bias is -0.013355069735978765\n",
            "After epoch 58: Weight is 0.30194412316297026 and Bias is -0.013355069735978761\n",
            "After epoch 59: Weight is 0.30194412316297026 and Bias is -0.013355069735978765\n",
            "After epoch 60: Weight is 0.30194412316297026 and Bias is -0.013355069735978763\n",
            "After epoch 61: Weight is 0.30194412316297026 and Bias is -0.013355069735978765\n",
            "After epoch 62: Weight is 0.30194412316297026 and Bias is -0.013355069735978761\n",
            "After epoch 63: Weight is 0.30194412316297026 and Bias is -0.013355069735978765\n",
            "After epoch 64: Weight is 0.30194412316297026 and Bias is -0.013355069735978763\n",
            "After epoch 65: Weight is 0.30194412316297026 and Bias is -0.013355069735978765\n",
            "After epoch 66: Weight is 0.30194412316297026 and Bias is -0.013355069735978761\n",
            "After epoch 67: Weight is 0.30194412316297026 and Bias is -0.013355069735978765\n",
            "After epoch 68: Weight is 0.30194412316297026 and Bias is -0.013355069735978763\n",
            "After epoch 69: Weight is 0.30194412316297026 and Bias is -0.013355069735978765\n",
            "After epoch 70: Weight is 0.30194412316297026 and Bias is -0.013355069735978761\n",
            "After epoch 71: Weight is 0.30194412316297026 and Bias is -0.013355069735978765\n",
            "After epoch 72: Weight is 0.30194412316297026 and Bias is -0.013355069735978763\n",
            "After epoch 73: Weight is 0.30194412316297026 and Bias is -0.013355069735978765\n",
            "After epoch 74: Weight is 0.30194412316297026 and Bias is -0.013355069735978761\n",
            "After epoch 75: Weight is 0.30194412316297026 and Bias is -0.013355069735978765\n",
            "After epoch 76: Weight is 0.30194412316297026 and Bias is -0.013355069735978763\n",
            "After epoch 77: Weight is 0.30194412316297026 and Bias is -0.013355069735978765\n",
            "After epoch 78: Weight is 0.30194412316297026 and Bias is -0.013355069735978761\n",
            "After epoch 79: Weight is 0.30194412316297026 and Bias is -0.013355069735978765\n",
            "After epoch 80: Weight is 0.30194412316297026 and Bias is -0.013355069735978763\n",
            "After epoch 81: Weight is 0.30194412316297026 and Bias is -0.013355069735978765\n",
            "After epoch 82: Weight is 0.30194412316297026 and Bias is -0.013355069735978761\n",
            "After epoch 83: Weight is 0.30194412316297026 and Bias is -0.013355069735978765\n",
            "After epoch 84: Weight is 0.30194412316297026 and Bias is -0.013355069735978763\n",
            "After epoch 85: Weight is 0.30194412316297026 and Bias is -0.013355069735978765\n",
            "After epoch 86: Weight is 0.30194412316297026 and Bias is -0.013355069735978761\n",
            "After epoch 87: Weight is 0.30194412316297026 and Bias is -0.013355069735978765\n",
            "After epoch 88: Weight is 0.30194412316297026 and Bias is -0.013355069735978763\n",
            "After epoch 89: Weight is 0.30194412316297026 and Bias is -0.013355069735978765\n",
            "After epoch 90: Weight is 0.30194412316297026 and Bias is -0.013355069735978761\n",
            "After epoch 91: Weight is 0.30194412316297026 and Bias is -0.013355069735978765\n",
            "After epoch 92: Weight is 0.30194412316297026 and Bias is -0.013355069735978763\n",
            "After epoch 93: Weight is 0.30194412316297026 and Bias is -0.013355069735978765\n",
            "After epoch 94: Weight is 0.30194412316297026 and Bias is -0.013355069735978761\n",
            "After epoch 95: Weight is 0.30194412316297026 and Bias is -0.013355069735978765\n",
            "After epoch 96: Weight is 0.30194412316297026 and Bias is -0.013355069735978763\n",
            "After epoch 97: Weight is 0.30194412316297026 and Bias is -0.013355069735978765\n",
            "After epoch 98: Weight is 0.30194412316297026 and Bias is -0.013355069735978761\n",
            "After epoch 99: Weight is 0.30194412316297026 and Bias is -0.013355069735978765\n",
            "After epoch 100: Weight is 0.30194412316297026 and Bias is -0.013355069735978763\n"
          ]
        }
      ]
    },
    {
      "cell_type": "code",
      "source": [
        "plt.plot(epoch, err_nag) \n",
        "plt.xlabel(\"Epoch\") \n",
        "plt.ylabel(\"Error\") \n",
        "plt.show()"
      ],
      "metadata": {
        "colab": {
          "base_uri": "https://localhost:8080/",
          "height": 279
        },
        "id": "HUdFSENrrog1",
        "outputId": "cbce3505-3bb7-4def-83ea-991dd2c47557"
      },
      "execution_count": 64,
      "outputs": [
        {
          "output_type": "display_data",
          "data": {
            "text/plain": [
              "<Figure size 432x288 with 1 Axes>"
            ],
            "image/png": "[encoded data removed]"
          },
          "metadata": {
            "needs_background": "light"
          }
        }
      ]
    },
    {
      "cell_type": "code",
      "source": [
        "plt.plot(wt_nag, err_nag) \n",
        "plt.xlabel(\"Epoch\") \n",
        "plt.ylabel(\"Error\") \n",
        "plt.show()"
      ],
      "metadata": {
        "colab": {
          "base_uri": "https://localhost:8080/",
          "height": 279
        },
        "id": "_HwszIPSruec",
        "outputId": "17d1ed71-ae69-4071-c1ce-97998bb52431"
      },
      "execution_count": 65,
      "outputs": [
        {
          "output_type": "display_data",
          "data": {
            "text/plain": [
              "<Figure size 432x288 with 1 Axes>"
            ],
            "image/png": "[encoded data removed]"
          },
          "metadata": {
            "needs_background": "light"
          }
        }
      ]
    },
    {
      "cell_type": "markdown",
      "source": [
        "# **ADAM**"
      ],
      "metadata": {
        "id": "pz82TzT5YVNV"
      }
    },
    {
      "cell_type": "code",
      "source": [
        "def adam_gd(X, Y, epochs): \n",
        "  w, b, c = -2, -2, 1 \n",
        "  beta1, beta2 = 0.45, 0.85\n",
        "  eta = 1 \n",
        "  mt_w, mt_b = 0, 0 \n",
        "  vt_w, vt_b = 0, 0\n",
        "  eps = 2 \n",
        "  err_list = [] \n",
        "  W = [] \n",
        "  B = [] \n",
        "  for i in range(1, epochs+1): \n",
        "    temp_dw = 0 \n",
        "    temp_db = 0 \n",
        "    for x, y in zip(X, Y): \n",
        "      y_hat = sigmoid(x, w, b)\n",
        "      temp_dw += delta_w(x, y, y_hat, c) \n",
        "      temp_db += delta_b(y, y_hat, c) \n",
        "    \n",
        "    mt_w = beta1*mt_w + eta*temp_dw\n",
        "    mt_b = beta1*mt_b + eta*temp_db \n",
        "\n",
        "    vt_w = beta2*vt_w + (1-beta2)*temp_dw*temp_dw\n",
        "    vt_b = beta2*vt_b + (1-beta2)*temp_db*temp_db \n",
        "\n",
        "    mt_hat_w = mt_w/(1-beta1**i) \n",
        "    vt_hat_w = vt_w/(1-beta2**i) \n",
        "    w = w - (eta*mt_hat_w)/(np.sqrt(vt_hat_w) + eps)\n",
        "\n",
        "    mt_hat_b = mt_b/(1-beta1**i) \n",
        "    vt_hat_b = vt_b/(1-beta2**i) \n",
        "    b = b - (eta*mt_hat_b)/(np.sqrt(vt_hat_b) + eps)\n",
        "\n",
        "    W.append(w) \n",
        "    B.append(b) \n",
        "\n",
        "    err_list.append(error(Y, sigmoid(X, w, b)))\n",
        "    print(f\"After epoch {i+1}: Weight is {w} and Bias is {b}\") \n",
        "  return W, B, err_list"
      ],
      "metadata": {
        "id": "jQtZSqh4YXpR"
      },
      "execution_count": 66,
      "outputs": []
    },
    {
      "cell_type": "code",
      "source": [
        "wt_adam, bias_adam, err_adam = adam_gd(X, Y, 100)"
      ],
      "metadata": {
        "colab": {
          "base_uri": "https://localhost:8080/"
        },
        "id": "X8aUF_OyatEc",
        "outputId": "37278e6d-4e89-4f2d-dbb1-05a72a87405c"
      },
      "execution_count": 67,
      "outputs": [
        {
          "output_type": "stream",
          "name": "stdout",
          "text": [
            "After epoch 2: Weight is -1.995020656602947 and Bias is -1.9930167796209848\n",
            "After epoch 3: Weight is -1.990003942379954 and Bias is -1.9859988430558184\n",
            "After epoch 4: Weight is -1.984943630600177 and Bias is -1.9789406583595177\n",
            "After epoch 5: Weight is -1.979834690635686 and Bias is -1.971837888123295\n",
            "After epoch 6: Weight is -1.9746732542084358 and Bias is -1.9646873418112303\n",
            "After epoch 7: Weight is -1.9694563772812923 and Bias is -1.9574867391095685\n",
            "After epoch 8: Weight is -1.9641817526175487 and Bias is -1.950234431939408\n",
            "After epoch 9: Weight is -1.9588474636550728 and Bias is -1.9429291696501176\n",
            "After epoch 10: Weight is -1.9534518074154015 and Bias is -1.9355699319427646\n",
            "After epoch 11: Weight is -1.9479931798422279 and Bias is -1.9281558220225905\n",
            "After epoch 12: Weight is -1.942470006297806 and Bias is -1.9206860029370483\n",
            "After epoch 13: Weight is -1.9368807009509286 and Bias is -1.9131596613968054\n",
            "After epoch 14: Weight is -1.9312236432504943 and Bias is -1.905575987809564\n",
            "After epoch 15: Weight is -1.925497163950394 and Bias is -1.8979341653925415\n",
            "After epoch 16: Weight is -1.9196995362322355 and Bias is -1.8902333641770743\n",
            "After epoch 17: Weight is -1.913828969420463 and Bias is -1.8824727375680579\n",
            "After epoch 18: Weight is -1.9078836039252187 and Bias is -1.8746514201974143\n",
            "After epoch 19: Weight is -1.9018615066836537 and Bias is -1.8667685264074927\n",
            "After epoch 20: Weight is -1.895760666711795 and Bias is -1.8588231490199025\n",
            "After epoch 21: Weight is -1.8895789905574234 and Bias is -1.8508143582121188\n",
            "After epoch 22: Weight is -1.8833142975352064 and Bias is -1.8427412004094996\n",
            "After epoch 23: Weight is -1.8769643146701216 and Bias is -1.834602697143142\n",
            "After epoch 24: Weight is -1.8705266712961925 and Bias is -1.8263978438449864\n",
            "After epoch 25: Weight is -1.8639988932663085 and Bias is -1.8181256085615076\n",
            "After epoch 26: Weight is -1.8573783967312967 and Bias is -1.8097849305716933\n",
            "After epoch 27: Weight is -1.8506624814454347 and Bias is -1.8013747188965437\n",
            "After epoch 28: Weight is -1.8438483235526768 and Bias is -1.792893850687404\n",
            "After epoch 29: Weight is -1.836932967803696 and Bias is -1.7843411694797062\n",
            "After epoch 30: Weight is -1.8299133191487096 and Bias is -1.7757154832974802\n",
            "After epoch 31: Weight is -1.822786133645053 and Bias is -1.767015562592405\n",
            "After epoch 32: Weight is -1.8155480086115763 and Bias is -1.7582401379992865\n",
            "After epoch 33: Weight is -1.8081953719540795 and Bias is -1.7493878978876334\n",
            "After epoch 34: Weight is -1.8007244705770675 and Bias is -1.7404574856864792\n",
            "After epoch 35: Weight is -1.7931313577869297 and Bias is -1.7314474969566684\n",
            "After epoch 36: Weight is -1.7854118795800533 and Bias is -1.722356476181493\n",
            "After epoch 37: Weight is -1.7775616596961374 and Bias is -1.7131829132427125\n",
            "After epoch 38: Weight is -1.7695760833018255 and Bias is -1.7039252395445779\n",
            "After epoch 39: Weight is -1.7614502791524016 and Bias is -1.694581823743371\n",
            "After epoch 40: Weight is -1.7531791000593393 and Bias is -1.6851509670340963\n",
            "After epoch 41: Weight is -1.744757101468492 and Bias is -1.6756308979391346\n",
            "After epoch 42: Weight is -1.736178517927176 and Bias is -1.6660197665357694\n",
            "After epoch 43: Weight is -1.7274372371876612 and Bias is -1.6563156380502952\n",
            "After epoch 44: Weight is -1.7185267716589219 and Bias is -1.6465164857356986\n",
            "After epoch 45: Weight is -1.7094402268770037 and Bias is -1.6366201829373708\n",
            "After epoch 46: Weight is -1.7001702666159235 and Bias is -1.626624494236619\n",
            "After epoch 47: Weight is -1.6907090742043434 and Bias is -1.6165270655444801\n",
            "After epoch 48: Weight is -1.681048309546713 and Bias is -1.6063254129979803\n",
            "After epoch 49: Weight is -1.6711790612692157 and Bias is -1.596016910486917\n",
            "After epoch 50: Weight is -1.6610917933182705 and Bias is -1.585598775610675\n",
            "After epoch 51: Weight is -1.6507762852295906 and Bias is -1.5750680538305881\n",
            "After epoch 52: Weight is -1.6402215651552152 and Bias is -1.5644216005427505\n",
            "After epoch 53: Weight is -1.6294158345800207 and Bias is -1.5536560607474765\n",
            "After epoch 54: Weight is -1.618346383472309 and Bias is -1.5427678459330012\n",
            "After epoch 55: Weight is -1.6069994943881463 and Bias is -1.531753107720183\n",
            "After epoch 56: Weight is -1.5953603337772708 and Bias is -1.5206077077290208\n",
            "After epoch 57: Weight is -1.5834128284084281 and Bias is -1.509327183023035\n",
            "After epoch 58: Weight is -1.5711395244296058 and Bias is -1.4979067063592888\n",
            "After epoch 59: Weight is -1.5585214260856415 and Bias is -1.486341040313995\n",
            "After epoch 60: Weight is -1.545537810508575 and Bias is -1.4746244841584883\n",
            "After epoch 61: Weight is -1.532166014244588 and Bias is -1.4627508121177089\n",
            "After epoch 62: Weight is -1.5183811862459016 and Bias is -1.4507132013400141\n",
            "After epoch 63: Weight is -1.5041560008847963 and Bias is -1.4385041475257152\n",
            "After epoch 64: Weight is -1.4894603230715877 and Bias is -1.426115365679118\n",
            "After epoch 65: Weight is -1.4742608156880064 and Bias is -1.4135376728342224\n",
            "After epoch 66: Weight is -1.4585204771600764 and Bias is -1.400760848816102\n",
            "After epoch 67: Weight is -1.442198093925523 and Bias is -1.3877734700819901\n",
            "After epoch 68: Weight is -1.4252475885754046 and Bias is -1.3745627103611289\n",
            "After epoch 69: Weight is -1.4076172392591508 and Bias is -1.3611141000738505\n",
            "After epoch 70: Weight is -1.389248739107507 and Bias is -1.3474112342093831\n",
            "After epoch 71: Weight is -1.3700760553472087 and Bias is -1.3334354152687349\n",
            "After epoch 72: Weight is -1.3500240356012538 and Bias is -1.3191652137347207\n",
            "After epoch 73: Weight is -1.329006692365894 and Bias is -1.3045759228847547\n",
            "After epoch 74: Weight is -1.3069250740547869 and Bias is -1.2896388769845593\n",
            "After epoch 75: Weight is -1.2836645996943585 and Bias is -1.2743205910632016\n",
            "After epoch 76: Weight is -1.2590916904611187 and Bias is -1.2585816651803032\n",
            "After epoch 77: Weight is -1.2330494689157132 and Bias is -1.2423753742418864\n",
            "After epoch 78: Weight is -1.2053522070492657 and Bias is -1.2256458327466069\n",
            "After epoch 79: Weight is -1.175778073202882 and Bias is -1.208325577258072\n",
            "After epoch 80: Weight is -1.1440595336337094 and Bias is -1.1903323398189705\n",
            "After epoch 81: Weight is -1.1098704719589247 and Bias is -1.1715646799257953\n",
            "After epoch 82: Weight is -1.0728086422283296 and Bias is -1.1518959797985577\n",
            "After epoch 83: Weight is -1.0323713763100575 and Bias is -1.1311660523911484\n",
            "After epoch 84: Weight is -0.9879213716931173 and Bias is -1.109169205645636\n",
            "After epoch 85: Weight is -0.9386376451579284 and Bias is -1.0856369540810702\n",
            "After epoch 86: Weight is -0.883443967521796 and Bias is -1.0602125182755495\n",
            "After epoch 87: Weight is -0.820902772855058 and Bias is -1.0324125920957063\n",
            "After epoch 88: Weight is -0.7490562744651666 and Bias is -1.001569414081501\n",
            "After epoch 89: Weight is -0.6651896049439261 and Bias is -0.966743424591686\n",
            "After epoch 90: Weight is -0.565493022302733 and Bias is -0.9265976283305367\n",
            "After epoch 91: Weight is -0.44465782494916145 and Bias is -0.879248355943283\n",
            "After epoch 92: Weight is -0.29574092806752794 and Bias is -0.8222339235681417\n",
            "After epoch 93: Weight is -0.1118018496251347 and Bias is -0.7532543196427228\n",
            "After epoch 94: Weight is 0.10619774814558461 and Bias is -0.6737016492801247\n",
            "After epoch 95: Weight is 0.3323286444458398 and Bias is -0.5963402837371423\n",
            "After epoch 96: Weight is 0.5195228189990718 and Bias is -0.5431016388480507\n",
            "After epoch 97: Weight is 0.6459922030065407 and Bias is -0.5232276757780675\n",
            "After epoch 98: Weight is 0.7217874985857631 and Bias is -0.5305371656796497\n",
            "After epoch 99: Weight is 0.7647517119962304 and Bias is -0.5551056111683933\n",
            "After epoch 100: Weight is 0.7892175564944969 and Bias is -0.5889101794340059\n",
            "After epoch 101: Weight is 0.804521330631247 and Bias is -0.6266560013413328\n"
          ]
        }
      ]
    },
    {
      "cell_type": "code",
      "source": [
        "plt.plot(epoch, err_adam) \n",
        "plt.xlabel(\"Epoch\") \n",
        "plt.ylabel(\"Error\") \n",
        "plt.show()"
      ],
      "metadata": {
        "colab": {
          "base_uri": "https://localhost:8080/",
          "height": 279
        },
        "id": "RB5q8Mf6ay2_",
        "outputId": "0ead74de-0ce0-4bad-a701-5a5d6612e6ac"
      },
      "execution_count": 68,
      "outputs": [
        {
          "output_type": "display_data",
          "data": {
            "text/plain": [
              "<Figure size 432x288 with 1 Axes>"
            ],
            "image/png": "[encoded data removed]"
          },
          "metadata": {
            "needs_background": "light"
          }
        }
      ]
    },
    {
      "cell_type": "code",
      "source": [
        "plt.plot(wt_adam, err_adam) \n",
        "plt.xlabel(\"Weight\") \n",
        "plt.ylabel(\"Error\") \n",
        "plt.show()"
      ],
      "metadata": {
        "colab": {
          "base_uri": "https://localhost:8080/",
          "height": 279
        },
        "id": "ir1LLYG4a3kW",
        "outputId": "a6d310a6-0f90-4194-c338-85bb2b23fa25"
      },
      "execution_count": 69,
      "outputs": [
        {
          "output_type": "display_data",
          "data": {
            "text/plain": [
              "<Figure size 432x288 with 1 Axes>"
            ],
            "image/png": "[encoded data removed]"
          },
          "metadata": {
            "needs_background": "light"
          }
        }
      ]
    },
    {
      "cell_type": "markdown",
      "source": [
        "# **ANALYSIS OF ALL GRADIENTS**"
      ],
      "metadata": {
        "id": "1moBVeL9k_kz"
      }
    },
    {
      "cell_type": "code",
      "source": [
        "plt.figure(figsize=(10, 10)) \n",
        "plt.plot(epoch, err_bgd, color='orange') \n",
        "plt.plot(epoch, err_mb, color='yellow')\n",
        "plt.plot(epoch, err_mom, color='pink') \n",
        "plt.plot(epoch, err_adagrad, color='red')\n",
        "plt.plot(epoch, err_adadelta, color='green') \n",
        "plt.plot(epoch, err_nag, color='blue')\n",
        "plt.plot(epoch, err_adam, color='cyan') \n",
        "plt.legend(['Batch', 'Mini-Batch', 'Momentum', 'AdaGrad', 'AdaDelta', 'NAG', 'ADAM'], loc='best') \n",
        "plt.show()"
      ],
      "metadata": {
        "colab": {
          "base_uri": "https://localhost:8080/",
          "height": 592
        },
        "id": "YidUxZg9lCyf",
        "outputId": "f519aae6-5502-409e-92e1-3a2febd5d174"
      },
      "execution_count": 70,
      "outputs": [
        {
          "output_type": "display_data",
          "data": {
            "text/plain": [
              "<Figure size 720x720 with 1 Axes>"
            ],
            "image/png": "[encoded data removed]"
          },
          "metadata": {
            "needs_background": "light"
          }
        }
      ]
    }
  ]
}