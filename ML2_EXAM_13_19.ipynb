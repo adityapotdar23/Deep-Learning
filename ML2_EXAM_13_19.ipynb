{
  "nbformat": 4,
  "nbformat_minor": 0,
  "metadata": {
    "colab": {
      "provenance": [],
      "collapsed_sections": [
        "zFt22JzpZOg-",
        "CblahkGybdhn",
        "7FVui2t9fR9H",
        "ibY3YQBojMN-",
        "SpdR-BG1iceP",
        "_00O8RyfoTi_"
      ]
    },
    "kernelspec": {
      "name": "python3",
      "display_name": "Python 3"
    },
    "language_info": {
      "name": "python"
    }
  },
  "cells": [
    {
      "cell_type": "code",
      "execution_count": null,
      "metadata": {
        "id": "0EkiApM2YJYy"
      },
      "outputs": [],
      "source": [
        "import numpy as np \n",
        "import pandas as pd \n",
        "import matplotlib.pyplot as plt "
      ]
    },
    {
      "cell_type": "code",
      "source": [
        "X = np.array([0.5, 2.5]) \n",
        "Y = np.array([0.2, 0.9])"
      ],
      "metadata": {
        "id": "gCdUhf8TYZLc"
      },
      "execution_count": null,
      "outputs": []
    },
    {
      "cell_type": "code",
      "source": [
        "def sigmoid(x, w, b): \n",
        "  y_in = np.dot(w, x) + b \n",
        "  y_hat = 1/(1 + np.exp(-y_in)) \n",
        "  return y_hat"
      ],
      "metadata": {
        "id": "s91OYvodYh8b"
      },
      "execution_count": null,
      "outputs": []
    },
    {
      "cell_type": "code",
      "source": [
        "def error(y, y_hat): \n",
        "  err = np.array((y-y_hat)**2).mean() \n",
        "  return err "
      ],
      "metadata": {
        "id": "s9cSRnX6Ytg6"
      },
      "execution_count": null,
      "outputs": []
    },
    {
      "cell_type": "code",
      "source": [
        "def delta_w(x, y, y_hat, c): \n",
        "  dw = c*(y_hat-y)*y_hat*(1-y_hat)*x\n",
        "  return dw "
      ],
      "metadata": {
        "id": "Bekz9UHwYy-C"
      },
      "execution_count": null,
      "outputs": []
    },
    {
      "cell_type": "code",
      "source": [
        "def delta_b(y, y_hat, c): \n",
        "  db = c*(y_hat-y)*y_hat*(1-y_hat)\n",
        "  return db"
      ],
      "metadata": {
        "id": "IMiZd322ZGj2"
      },
      "execution_count": null,
      "outputs": []
    },
    {
      "cell_type": "markdown",
      "source": [
        "# **BATCH**"
      ],
      "metadata": {
        "id": "zFt22JzpZOg-"
      }
    },
    {
      "cell_type": "code",
      "source": [
        "def batch_gd(x, Y, epochs): \n",
        "  w = -2 \n",
        "  b = -2 \n",
        "  c = 1 \n",
        "  err_list = [] \n",
        "  W = [] \n",
        "  B = [] \n",
        "  for i in range(epochs): \n",
        "    temp_w = 0 \n",
        "    temp_b = 0\n",
        "    for x, y in zip(X, Y):\n",
        "      y_hat = sigmoid(x, w, b) \n",
        "      temp_w += delta_w(x, y, y_hat, c) \n",
        "      temp_b += delta_b(y, y_hat, c) \n",
        "    temp_w = temp_w/len(Y) \n",
        "    temp_b = temp_b/len(Y) \n",
        "    w += temp_w \n",
        "    b += temp_b \n",
        "    W.append(w) \n",
        "    B.append(b) \n",
        "    err_list.append(error(Y, sigmoid(X, w, b)))\n",
        "    print(f\"After epoch {i+1}: Weight ==> {w} and Bias ==> {b}\") \n",
        "  return W, B, err_list "
      ],
      "metadata": {
        "id": "XRWCZn8FZLU0"
      },
      "execution_count": null,
      "outputs": []
    },
    {
      "cell_type": "code",
      "source": [
        "wt_bgd, b_bgd, err_bgd = batch_gd(X, Y, 100)"
      ],
      "metadata": {
        "colab": {
          "base_uri": "https://localhost:8080/"
        },
        "id": "-HlMMbtmajW6",
        "outputId": "fba45ad2-14ef-479f-f66c-463115e1e04f"
      },
      "execution_count": null,
      "outputs": [
        {
          "output_type": "stream",
          "name": "stdout",
          "text": [
            "After epoch 1: Weight ==> -1.99725384039218 and Bias ==> -1.9961444203923928\n",
            "After epoch 2: Weight ==> -1.9944912004709476 and Bias ==> -1.9922734714647627\n",
            "After epoch 3: Weight ==> -1.9917118825485347 and Bias ==> -1.9883870406790147\n",
            "After epoch 4: Weight ==> -1.9889156852695724 and Bias ==> -1.984485014240972\n",
            "After epoch 5: Weight ==> -1.9861024035175066 and Bias ==> -1.9805672770781728\n",
            "After epoch 6: Weight ==> -1.9832718283179627 and Bias ==> -1.9766337128170246\n",
            "After epoch 7: Weight ==> -1.9804237467389414 and Bias ==> -1.9726842037592907\n",
            "After epoch 8: Weight ==> -1.9775579417877174 and Bias ==> -1.9687186308578795\n",
            "After epoch 9: Weight ==> -1.9746741923043087 and Bias ==> -1.9647368736919084\n",
            "After epoch 10: Weight ==> -1.9717722728513796 and Bias ==> -1.9607388104410104\n",
            "After epoch 11: Weight ==> -1.9688519536004305 and Bias ==> -1.9567243178588505\n",
            "After epoch 12: Weight ==> -1.9659130002141245 and Bias ==> -1.9526932712458187\n",
            "After epoch 13: Weight ==> -1.9629551737245892 and Bias ==> -1.948645544420863\n",
            "After epoch 14: Weight ==> -1.9599782304075295 and Bias ==> -1.9445810096924236\n",
            "After epoch 15: Weight ==> -1.9569819216519742 and Bias ==> -1.9404995378284289\n",
            "After epoch 16: Weight ==> -1.9539659938254734 and Bias ==> -1.9364009980253114\n",
            "After epoch 17: Weight ==> -1.950930188134555 and Bias ==> -1.9322852578759977\n",
            "After epoch 18: Weight ==> -1.9478742404802363 and Bias ==> -1.9281521833368271\n",
            "After epoch 19: Weight ==> -1.944797881308379 and Bias ==> -1.9240016386933478\n",
            "After epoch 20: Weight ==> -1.941700835454666 and Bias ==> -1.9198334865249402\n",
            "After epoch 21: Weight ==> -1.938582821983963 and Bias ==> -1.9156475876682095\n",
            "After epoch 22: Weight ==> -1.9354435540238188 and Bias ==> -1.9114438011790924\n",
            "After epoch 23: Weight ==> -1.9322827385918493 and Bias ==> -1.907221984293614\n",
            "After epoch 24: Weight ==> -1.9291000764167257 and Bias ==> -1.9029819923872306\n",
            "After epoch 25: Weight ==> -1.9258952617524863 and Bias ==> -1.89872367893269\n",
            "After epoch 26: Weight ==> -1.922667982185867 and Bias ==> -1.894446895456336\n",
            "After epoch 27: Weight ==> -1.9194179184363325 and Bias ==> -1.8901514914927813\n",
            "After epoch 28: Weight ==> -1.9161447441484751 and Bias ==> -1.8858373145378646\n",
            "After epoch 29: Weight ==> -1.9128481256764265 and Bias ==> -1.8815042099998107\n",
            "After epoch 30: Weight ==> -1.9095277218599116 and Bias ==> -1.8771520211484964\n",
            "After epoch 31: Weight ==> -1.9061831837915517 and Bias ==> -1.8727805890627307\n",
            "After epoch 32: Weight ==> -1.9028141545750037 and Bias ==> -1.8683897525754438\n",
            "After epoch 33: Weight ==> -1.8994202690734971 and Bias ==> -1.8639793482166778\n",
            "After epoch 34: Weight ==> -1.8960011536483088 and Bias ==> -1.8595492101542623\n",
            "After epoch 35: Weight ==> -1.8925564258866883 and Bias ==> -1.855099170132056\n",
            "After epoch 36: Weight ==> -1.8890856943187182 and Bias ==> -1.8506290574056201\n",
            "After epoch 37: Weight ==> -1.885588558122565 and Bias ==> -1.84613869867519\n",
            "After epoch 38: Weight ==> -1.8820646068175462 and Bias ==> -1.8416279180157957\n",
            "After epoch 39: Weight ==> -1.8785134199444016 and Bias ==> -1.8370965368043792\n",
            "After epoch 40: Weight ==> -1.874934566732127 and Bias ==> -1.832544373643739\n",
            "After epoch 41: Weight ==> -1.8713276057506854 and Bias ==> -1.8279712442831297\n",
            "After epoch 42: Weight ==> -1.8676920845488707 and Bias ==> -1.8233769615353286\n",
            "After epoch 43: Weight ==> -1.8640275392765613 and Bias ==> -1.8187613351899692\n",
            "After epoch 44: Weight ==> -1.860333494290543 and Bias ==> -1.814124171922931\n",
            "After epoch 45: Weight ==> -1.8566094617430444 and Bias ==> -1.809465275201559\n",
            "After epoch 46: Weight ==> -1.8528549411520627 and Bias ==> -1.8047844451854715\n",
            "After epoch 47: Weight ==> -1.84906941895251 and Bias ==> -1.8000814786227013\n",
            "After epoch 48: Weight ==> -1.8452523680271433 and Bias ==> -1.7953561687408937\n",
            "After epoch 49: Weight ==> -1.8414032472161777 and Bias ==> -1.7906083051332715\n",
            "After epoch 50: Weight ==> -1.837521500804414 and Bias ==> -1.7858376736390524\n",
            "After epoch 51: Weight ==> -1.833606557984634 and Bias ==> -1.7810440562179863\n",
            "After epoch 52: Weight ==> -1.829657832295936 and Bias ==> -1.7762272308186546\n",
            "After epoch 53: Weight ==> -1.825674721035598 and Bias ==> -1.7713869712401515\n",
            "After epoch 54: Weight ==> -1.8216566046429594 and Bias ==> -1.7665230469867375\n",
            "After epoch 55: Weight ==> -1.8176028460537168 and Bias ==> -1.7616352231150272\n",
            "After epoch 56: Weight ==> -1.8135127900229133 and Bias ==> -1.7567232600732448\n",
            "After epoch 57: Weight ==> -1.8093857624147909 and Bias ==> -1.7517869135320432\n",
            "After epoch 58: Weight ==> -1.805221069457546 and Bias ==> -1.7468259342063486\n",
            "After epoch 59: Weight ==> -1.801017996960893 and Bias ==> -1.7418400676676524\n",
            "After epoch 60: Weight ==> -1.7967758094941961 and Bias ==> -1.7368290541461304\n",
            "After epoch 61: Weight ==> -1.7924937495227644 and Bias ==> -1.7317926283219203\n",
            "After epoch 62: Weight ==> -1.7881710364997456 and Bias ==> -1.7267305191048423\n",
            "After epoch 63: Weight ==> -1.7838068659108548 and Bias ==> -1.721642449401791\n",
            "After epoch 64: Weight ==> -1.7794004082689845 and Bias ==> -1.7165281358709672\n",
            "After epoch 65: Weight ==> -1.7749508080555179 and Bias ==> -1.7113872886620558\n",
            "After epoch 66: Weight ==> -1.7704571826049345 and Bias ==> -1.706219611141385\n",
            "After epoch 67: Weight ==> -1.7659186209290396 and Bias ==> -1.7010247996010286\n",
            "After epoch 68: Weight ==> -1.76133418247687 and Bias ==> -1.6958025429507266\n",
            "After epoch 69: Weight ==> -1.7567028958260267 and Bias ==> -1.6905525223914122\n",
            "After epoch 70: Weight ==> -1.7520237573008541 and Bias ==> -1.6852744110690356\n",
            "After epoch 71: Weight ==> -1.747295729512528 and Bias ==> -1.679967873707267\n",
            "After epoch 72: Weight ==> -1.7425177398157206 and Bias ==> -1.6746325662175414\n",
            "After epoch 73: Weight ==> -1.7376886786760852 and Bias ==> -1.6692681352847865\n",
            "After epoch 74: Weight ==> -1.7328073979423355 and Bias ==> -1.6638742179270267\n",
            "After epoch 75: Weight ==> -1.727872709016184 and Bias ==> -1.6584504410269114\n",
            "After epoch 76: Weight ==> -1.722883380912846 and Bias ==> -1.652996420833038\n",
            "After epoch 77: Weight ==> -1.7178381382042018 and Bias ==> -1.6475117624287654\n",
            "After epoch 78: Weight ==> -1.7127356588360392 and Bias ==> -1.641996059166\n",
            "After epoch 79: Weight ==> -1.7075745718100637 and Bias ==> -1.6364488920612237\n",
            "After epoch 80: Weight ==> -1.7023534547205486 and Bias ==> -1.6308698291507775\n",
            "After epoch 81: Weight ==> -1.6970708311346088 and Bias ==> -1.6252584248021504\n",
            "After epoch 82: Weight ==> -1.6917251678041023 and Bias ==> -1.6196142189777212\n",
            "After epoch 83: Weight ==> -1.6863148716960754 and Bias ==> -1.6139367364470671\n",
            "After epoch 84: Weight ==> -1.6808382868274756 and Bias ==> -1.6082254859435952\n",
            "After epoch 85: Weight ==> -1.6752936908885343 and Bias ==> -1.6024799592608383\n",
            "After epoch 86: Weight ==> -1.6696792916377574 and Bias ==> -1.5966996302833156\n",
            "After epoch 87: Weight ==> -1.6639932230498409 and Bias ==> -1.5908839539463535\n",
            "After epoch 88: Weight ==> -1.6582335411960294 and Bias ==> -1.5850323651187117\n",
            "After epoch 89: Weight ==> -1.6523982198344398 and Bias ==> -1.5791442774012416\n",
            "After epoch 90: Weight ==> -1.6464851456856409 and Bias ==> -1.5732190818341145\n",
            "After epoch 91: Weight ==> -1.6404921133663095 and Bias ==> -1.5672561455043903\n",
            "After epoch 92: Weight ==> -1.6344168199510127 and Bias ==> -1.5612548100448387\n",
            "After epoch 93: Weight ==> -1.6282568591290774 and Bias ==> -1.555214390013964\n",
            "After epoch 94: Weight ==> -1.6220097149200492 and Bias ==> -1.5491341711461082\n",
            "After epoch 95: Weight ==> -1.615672754907366 and Bias ==> -1.5430134084592912\n",
            "After epoch 96: Weight ==> -1.609243222945514 and Bias ==> -1.536851324207097\n",
            "After epoch 97: Weight ==> -1.6027182312910473 and Bias ==> -1.530647105659366\n",
            "After epoch 98: Weight ==> -1.5960947521023234 and Bias ==> -1.5243999026947406\n",
            "After epoch 99: Weight ==> -1.5893696082465953 and Bias ==> -1.5181088251861365\n",
            "After epoch 100: Weight ==> -1.582539463346055 and Bias ==> -1.5117729401580118\n"
          ]
        }
      ]
    },
    {
      "cell_type": "code",
      "source": [
        "epoch = [i for i in range(1, 101)]"
      ],
      "metadata": {
        "id": "VINmyDnOarLW"
      },
      "execution_count": null,
      "outputs": []
    },
    {
      "cell_type": "code",
      "source": [
        "plt.plot(epoch, err_bgd) \n",
        "plt.xlabel(\"Epoch\") \n",
        "plt.ylabel(\"Error\") \n",
        "plt.show()"
      ],
      "metadata": {
        "colab": {
          "base_uri": "https://localhost:8080/",
          "height": 279
        },
        "id": "y7ttSPqfa0JL",
        "outputId": "6bd3d852-fc9a-4249-b261-22d4228c09dc"
      },
      "execution_count": null,
      "outputs": [
        {
          "output_type": "display_data",
          "data": {
            "text/plain": [
              "<Figure size 432x288 with 1 Axes>"
            ],
            "image/png": "[encoded data removed]"
          },
          "metadata": {
            "needs_background": "light"
          }
        }
      ]
    },
    {
      "cell_type": "code",
      "source": [
        "plt.plot(wt_bgd, err_bgd) \n",
        "plt.xlabel(\"Weight\") \n",
        "plt.ylabel(\"Error\") \n",
        "plt.show()"
      ],
      "metadata": {
        "colab": {
          "base_uri": "https://localhost:8080/",
          "height": 279
        },
        "id": "S8m85s7ia7UB",
        "outputId": "afbc3424-5f68-447b-f501-c172df404aee"
      },
      "execution_count": null,
      "outputs": [
        {
          "output_type": "display_data",
          "data": {
            "text/plain": [
              "<Figure size 432x288 with 1 Axes>"
            ],
            "image/png": "[encoded data removed]"
          },
          "metadata": {
            "needs_background": "light"
          }
        }
      ]
    },
    {
      "cell_type": "markdown",
      "source": [
        "# **MINI-BATCH**"
      ],
      "metadata": {
        "id": "CblahkGybdhn"
      }
    },
    {
      "cell_type": "code",
      "source": [
        "def mini_batch_gd(X, Y, epochs): \n",
        "  batch_size = 1 \n",
        "  w = -2 \n",
        "  b = -2 \n",
        "  c = 1 \n",
        "  err_list = [] \n",
        "  W = [] \n",
        "  B = [] \n",
        "  for i in range(epochs): \n",
        "    temp_dw = 0 \n",
        "    temp_db = 0 \n",
        "    counter = 0\n",
        "    for x, y in zip(X, Y): \n",
        "      y_hat = sigmoid(x, w, b) \n",
        "      temp_dw += delta_w(x, y, y_hat, c) \n",
        "      temp_db += delta_b(y, y_hat, c) \n",
        "      counter += 1 \n",
        "      if(counter % batch_size == 0):  \n",
        "        w += temp_dw \n",
        "        b += temp_db \n",
        "    W.append(w) \n",
        "    B.append(b) \n",
        "    err_list.append(error(Y, sigmoid(X, w, b)))\n",
        "    print(f\"After epoch {i+1}: Weight ==> {w} and Bias ==> {b}\") \n",
        "  \n",
        "  return W, B, err_list"
      ],
      "metadata": {
        "id": "qaJWJ9avbhSM"
      },
      "execution_count": null,
      "outputs": []
    },
    {
      "cell_type": "code",
      "source": [
        "wt_mb, bias_mb, err_mb = mini_batch_gd(X, Y, 100)"
      ],
      "metadata": {
        "colab": {
          "base_uri": "https://localhost:8080/"
        },
        "id": "wNeDUDAjdrBG",
        "outputId": "1e11cfa3-4b70-4007-e0fa-016fe8590a5b"
      },
      "execution_count": null,
      "outputs": [
        {
          "output_type": "stream",
          "name": "stdout",
          "text": [
            "After epoch 1: Weight ==> -1.991029401024078 and Bias ==> -1.9853832973517143\n",
            "After epoch 2: Weight ==> -1.9819001493338824 and Bias ==> -1.9705749936143444\n",
            "After epoch 3: Weight ==> -1.9726070828837345 and Bias ==> -1.955571610395328\n",
            "After epoch 4: Weight ==> -1.9631447894488192 and Bias ==> -1.940369648856349\n",
            "After epoch 5: Weight ==> -1.9535075894668794 and Bias ==> -1.9249655963301513\n",
            "After epoch 6: Weight ==> -1.9436895172577084 and Bias ==> -1.9093559338088817\n",
            "After epoch 7: Weight ==> -1.9336843004198243 and Bias ==> -1.8935371443824414\n",
            "After epoch 8: Weight ==> -1.9234853371734617 and Bias ==> -1.87750572270914\n",
            "After epoch 9: Weight ==> -1.9130856713834918 and Bias ==> -1.8612581856041932\n",
            "After epoch 10: Weight ==> -1.9024779649540866 and Bias ==> -1.8447910838339663\n",
            "After epoch 11: Weight ==> -1.891654467237637 and Bias ==> -1.8281010152050388\n",
            "After epoch 12: Weight ==> -1.880606981042102 and Bias ==> -1.8111846390366793\n",
            "After epoch 13: Weight ==> -1.8693268247517971 and Bias ==> -1.7940386921026574\n",
            "After epoch 14: Weight ==> -1.8578047899943502 and Bias ==> -1.776660006122781\n",
            "After epoch 15: Weight ==> -1.8460310941884317 and Bias ==> -1.759045526875291\n",
            "After epoch 16: Weight ==> -1.8339953271894693 and Bias ==> -1.7411923349872158\n",
            "After epoch 17: Weight ==> -1.8216863911097059 and Bias ==> -1.7230976684396855\n",
            "After epoch 18: Weight ==> -1.8090924322193798 and Bias ==> -1.704758946797381\n",
            "After epoch 19: Weight ==> -1.7962007636309893 and Bias ==> -1.6861737971337736\n",
            "After epoch 20: Weight ==> -1.7829977772203023 and Bias ==> -1.667340081574072\n",
            "After epoch 21: Weight ==> -1.7694688429356722 and Bias ==> -1.6482559263127448\n",
            "After epoch 22: Weight ==> -1.7555981932781566 and Bias ==> -1.6289197518782785\n",
            "After epoch 23: Weight ==> -1.7413687902821748 and Bias ==> -1.6093303043096328\n",
            "After epoch 24: Weight ==> -1.7267621717685082 and Bias ==> -1.5894866867706088\n",
            "After epoch 25: Weight ==> -1.7117582729505625 and Bias ==> -1.5693883909524478\n",
            "After epoch 26: Weight ==> -1.6963352186149259 and Bias ==> -1.549035327391669\n",
            "After epoch 27: Weight ==> -1.6804690800210695 and Bias ==> -1.528427853547073\n",
            "After epoch 28: Weight ==> -1.6641335893101954 and Bias ==> -1.5075667981208447\n",
            "After epoch 29: Weight ==> -1.6472998024966992 and Bias ==> -1.4864534796528364\n",
            "After epoch 30: Weight ==> -1.6299356999260863 and Bias ==> -1.4650897168365955\n",
            "After epoch 31: Weight ==> -1.6120057102695822 and Bias ==> -1.443477827263377\n",
            "After epoch 32: Weight ==> -1.5934701404818192 and Bias ==> -1.4216206103458011\n",
            "After epoch 33: Weight ==> -1.5742844893890575 and Bias ==> -1.3995213089366119\n",
            "After epoch 34: Weight ==> -1.5543986163038643 and Bias ==> -1.3771835425433383\n",
            "After epoch 35: Weight ==> -1.5337557277171223 and Bias ==> -1.3546112029094561\n",
            "After epoch 36: Weight ==> -1.512291133898698 and Bias ==> -1.3318082998899192\n",
            "After epoch 37: Weight ==> -1.4899307119860878 and Bias ==> -1.3087787417064096\n",
            "After epoch 38: Weight ==> -1.4665889911593988 and Bias ==> -1.2855260284001682\n",
            "After epoch 39: Weight ==> -1.4421667462704875 and Bias ==> -1.2620528299688574\n",
            "After epoch 40: Weight ==> -1.4165479450122924 and Bias ==> -1.2383604103032706\n",
            "After epoch 41: Weight ==> -1.3895958345548955 and Bias ==> -1.2144478431169705\n",
            "After epoch 42: Weight ==> -1.3611478674537234 and Bias ==> -1.1903109442002884\n",
            "After epoch 43: Weight ==> -1.331009039128083 and Bias ==> -1.1659408116962613\n",
            "After epoch 44: Weight ==> -1.298943016956823 and Bias ==> -1.1413218164162267\n",
            "After epoch 45: Weight ==> -1.2646601454190358 and Bias ==> -1.1164288070114834\n",
            "After epoch 46: Weight ==> -1.227800947426068 and Bias ==> -1.0912231722315546\n",
            "After epoch 47: Weight ==> -1.1879129960658739 and Bias ==> -1.065647203396636\n",
            "After epoch 48: Weight ==> -1.1444178032012817 and Bias ==> -1.0396158691319985\n",
            "After epoch 49: Weight ==> -1.0965622985166839 and Bias ==> -1.0130045505113765\n",
            "After epoch 50: Weight ==> -1.0433458818559869 and Bias ==> -0.9856303017143168\n",
            "After epoch 51: Weight ==> -0.9834076598315146 and Bias ==> -0.9572224534172226\n",
            "After epoch 52: Weight ==> -0.9148469680476563 and Bias ==> -0.9273752387866498\n",
            "After epoch 53: Weight ==> -0.8349295036432602 and Bias ==> -0.8954695968606777\n",
            "After epoch 54: Weight ==> -0.7395959397163356 and Bias ==> -0.8605425987055805\n",
            "After epoch 55: Weight ==> -0.6226445580787731 and Bias ==> -0.8210757698935702\n",
            "After epoch 56: Weight ==> -0.4745024104888349 and Bias ==> -0.7747121128174516\n",
            "After epoch 57: Weight ==> -0.28132491725999786 and Bias ==> -0.7182746777756132\n",
            "After epoch 58: Weight ==> -0.03048116810406004 and Bias ==> -0.6505646380897598\n",
            "After epoch 59: Weight ==> 0.2537724665542401 and Bias ==> -0.5868862759062368\n",
            "After epoch 60: Weight ==> 0.46740198247496245 and Bias ==> -0.5724076408174362\n",
            "After epoch 61: Weight ==> 0.5818823468786352 and Bias ==> -0.6106321976165355\n",
            "After epoch 62: Weight ==> 0.652768373458993 and Bias ==> -0.6683599603037682\n",
            "After epoch 63: Weight ==> 0.7056908693273265 and Bias ==> -0.7308528669610298\n",
            "After epoch 64: Weight ==> 0.7498823015341893 and Bias ==> -0.7929360238230413\n",
            "After epoch 65: Weight ==> 0.7890840900180857 and Bias ==> -0.8527098549256998\n",
            "After epoch 66: Weight ==> 0.8249781709691849 and Bias ==> -0.9095198184617918\n",
            "After epoch 67: Weight ==> 0.8583935987752577 and Bias ==> -0.9632210780344882\n",
            "After epoch 68: Weight ==> 0.8897814195176661 and Bias ==> -1.0138822880826739\n",
            "After epoch 69: Weight ==> 0.9194157464371994 and Bias ==> -1.0616584371195397\n",
            "After epoch 70: Weight ==> 0.9474831822707592 and Bias ==> -1.106734351092239\n",
            "After epoch 71: Weight ==> 0.974124111776449 and Bias ==> -1.1492992988664847\n",
            "After epoch 72: Weight ==> 0.9994524348751601 and Bias ==> -1.1895357634335504\n",
            "After epoch 73: Weight ==> 1.023565353053768 and Bias ==> -1.2276148121910972\n",
            "After epoch 74: Weight ==> 1.0465484487866523 and Bias ==> -1.2636945773308537\n",
            "After epoch 75: Weight ==> 1.0684784825768663 and Bias ==> -1.2979201967812652\n",
            "After epoch 76: Weight ==> 1.0894250538091346 and Bias ==> -1.3304244201547848\n",
            "After epoch 77: Weight ==> 1.109451677762796 and Bias ==> -1.3613284906564507\n",
            "After epoch 78: Weight ==> 1.128616549869029 and Bias ==> -1.3907431117699587\n",
            "After epoch 79: Weight ==> 1.1469731327836745 and Bias ==> -1.418769405750426\n",
            "After epoch 80: Weight ==> 1.1645706355524896 and Bias ==> -1.4454998204892087\n",
            "After epoch 81: Weight ==> 1.1814544212605291 and Bias ==> -1.4710189665600808\n",
            "After epoch 82: Weight ==> 1.1976663630288946 and Bias ==> -1.4954043791341758\n",
            "After epoch 83: Weight ==> 1.213245159800683 and Bias ==> -1.5187272059234826\n",
            "After epoch 84: Weight ==> 1.228226618996727 and Bias ==> -1.541052825421062\n",
            "After epoch 85: Weight ==> 1.2426439108114697 and Bias ==> -1.5624414010340022\n",
            "After epoch 86: Weight ==> 1.2565277976527078 and Bias ==> -1.5829483770921293\n",
            "After epoch 87: Weight ==> 1.2699068414970798 and Bias ==> -1.6026249226139337\n",
            "After epoch 88: Weight ==> 1.2828075914777402 and Bias ==> -1.6215183283675765\n",
            "After epoch 89: Weight ==> 1.2952547537102772 and Bias ==> -1.639672362314337\n",
            "After epoch 90: Weight ==> 1.3072713451307818 and Bias ==> -1.6571275880382732\n",
            "After epoch 91: Weight ==> 1.3188788329322512 and Bias ==> -1.6739216502887853\n",
            "After epoch 92: Weight ==> 1.3300972610251458 and Bias ==> -1.6900895313125037\n",
            "After epoch 93: Weight ==> 1.3409453648063023 and Bias ==> -1.7056637812368334\n",
            "After epoch 94: Weight ==> 1.3514406753931638 and Bias ==> -1.720674725392785\n",
            "After epoch 95: Weight ==> 1.3615996143651117 and Bias ==> -1.7351506511292518\n",
            "After epoch 96: Weight ==> 1.3714375799491672 and Bias ==> -1.7491179763726046\n",
            "After epoch 97: Weight ==> 1.3809690254926015 and Bias ==> -1.762601401921542\n",
            "After epoch 98: Weight ==> 1.3902075309792525 and Bias ==> -1.7756240492343014\n",
            "After epoch 99: Weight ==> 1.3991658682689483 and Bias ==> -1.7882075852603831\n",
            "After epoch 100: Weight ==> 1.4078560606697208 and Bias ==> -1.8003723356887296\n"
          ]
        }
      ]
    },
    {
      "cell_type": "code",
      "source": [
        "plt.plot(epoch, err_mb) \n",
        "plt.xlabel(\"Epochs\") \n",
        "plt.ylabel(\"Error\") \n",
        "plt.show()"
      ],
      "metadata": {
        "colab": {
          "base_uri": "https://localhost:8080/",
          "height": 279
        },
        "id": "T1WUATU8dxAi",
        "outputId": "038cdb6f-a30f-42a6-bef3-0b8932742e35"
      },
      "execution_count": null,
      "outputs": [
        {
          "output_type": "display_data",
          "data": {
            "text/plain": [
              "<Figure size 432x288 with 1 Axes>"
            ],
            "image/png": "[encoded data removed]"
          },
          "metadata": {
            "needs_background": "light"
          }
        }
      ]
    },
    {
      "cell_type": "code",
      "source": [
        "plt.plot(wt_mb, err_mb) \n",
        "plt.xlabel(\"Weights\") \n",
        "plt.ylabel(\"Error\") \n",
        "plt.show()"
      ],
      "metadata": {
        "colab": {
          "base_uri": "https://localhost:8080/",
          "height": 279
        },
        "id": "1lKBFfBAd4_z",
        "outputId": "c1820656-6e52-4260-d4ff-f5cb9b8ffd75"
      },
      "execution_count": null,
      "outputs": [
        {
          "output_type": "display_data",
          "data": {
            "text/plain": [
              "<Figure size 432x288 with 1 Axes>"
            ],
            "image/png": "[encoded data removed]"
          },
          "metadata": {
            "needs_background": "light"
          }
        }
      ]
    },
    {
      "cell_type": "markdown",
      "source": [
        "# **MOMENTUM**"
      ],
      "metadata": {
        "id": "7FVui2t9fR9H"
      }
    },
    {
      "cell_type": "code",
      "source": [
        "def momentum_gd(X, Y, epochs): \n",
        "  w = -2\n",
        "  b = -2\n",
        "  eta = 1\n",
        "  c = 1\n",
        "  gamma = 0.9\n",
        "  v_w = 0 \n",
        "  v_b = 0 \n",
        "  err_list = [] \n",
        "  W = [] \n",
        "  B = [] \n",
        "  for i in range(epochs): \n",
        "    temp_dw = 0\n",
        "    temp_db = 0 \n",
        "    for x, y in zip(X, Y):  \n",
        "      y_hat = sigmoid(x, w, b)\n",
        "      temp_dw += delta_w(x, y, y_hat, c) \n",
        "      temp_db += delta_b(y, y_hat, c) \n",
        "    v_w = gamma*v_w + eta*temp_dw \n",
        "    v_b = gamma*v_b + eta*temp_db \n",
        "    w -= v_w \n",
        "    b -= v_b \n",
        "    W.append(w) \n",
        "    B.append(b) \n",
        "    y_hat = sigmoid(X, w, b)\n",
        "    err_list.append(error(Y, y_hat)) \n",
        "    print(f\"After epoch {i+1}: Weight is {w} and Bias is {b}\") \n",
        "  return W, B, err_list"
      ],
      "metadata": {
        "id": "ekF3T9SXfUM_"
      },
      "execution_count": null,
      "outputs": []
    },
    {
      "cell_type": "code",
      "source": [
        "wt_mom, bias_mom, err_mom = momentum_gd(X, Y, 100)"
      ],
      "metadata": {
        "colab": {
          "base_uri": "https://localhost:8080/"
        },
        "id": "ULSdCKXThq8f",
        "outputId": "3d7ecb88-a9fb-4491-b012-cea243b0ac85"
      },
      "execution_count": null,
      "outputs": [
        {
          "output_type": "stream",
          "name": "stdout",
          "text": [
            "After epoch 1: Weight is -1.99450768078436 and Bias is -1.9922888407847856\n",
            "After epoch 2: Weight is -1.9840061250335266 and Bias is -1.977576082055321\n",
            "After epoch 3: Weight is -1.9688673360707378 and Bias is -1.9564434677326807\n",
            "After epoch 4: Weight is -1.9493633941856943 and Bias is -1.9293606641030028\n",
            "After epoch 5: Weight is -1.9256734075697135 and Bias is -1.8966979801040313\n",
            "After epoch 6: Weight is -1.8978865395684548 and Bias is -1.858736566437543\n",
            "After epoch 7: Weight is -1.8660009795398573 and Bias is -1.8156764531171905\n",
            "After epoch 8: Weight is -1.8299182601553428 and Bias is -1.7676426602264097\n",
            "After epoch 9: Weight is -1.7894317045176555 and Bias is -1.7146894808539017\n",
            "After epoch 10: Weight is -1.7442068520770284 and Bias is -1.6568028511091835\n",
            "After epoch 11: Weight is -1.6937501830462272 and Bias is -1.5939004203451528\n",
            "After epoch 12: Weight is -1.637359805935997 and Bias is -1.5258283744380419\n",
            "After epoch 13: Weight is -1.5740469247910656 and Bias is -1.4523529449551191\n",
            "After epoch 14: Weight is -1.502407596229703 and Bias is -1.373142182445943\n",
            "After epoch 15: Weight is -1.4204054215370807 and Bias is -1.2877283953908283\n",
            "After epoch 16: Weight is -1.3249851280329374 and Bias is -1.1954297025473897\n",
            "After epoch 17: Weight is -1.2113426510800618 and Bias is -1.0951798683443923\n",
            "After epoch 18: Weight is -1.071439580672817 and Bias is -0.9851385955123005\n",
            "After epoch 19: Weight is -0.8906944883305166 and Bias is -0.8617354548421136\n",
            "After epoch 20: Weight is -0.6398609080570864 and Bias is -0.717147349519027\n",
            "After epoch 21: Weight is -0.2546024908950007 and Bias is -0.53275430972185\n",
            "After epoch 22: Weight is 0.3760467920632184 and Bias is -0.2785233618667935\n",
            "After epoch 23: Weight is 1.0439557047312 and Bias is -0.06495033329494543\n",
            "After epoch 24: Weight is 1.591541773014265 and Bias is 0.0275513015953458\n",
            "After epoch 25: Weight is 2.0283018645989315 and Bias is 0.004434619356956229\n",
            "After epoch 26: Weight is 2.3678278122550034 and Bias is -0.12117101321861044\n",
            "After epoch 27: Weight is 2.6208350669744105 and Bias is -0.33817908844372063\n",
            "After epoch 28: Weight is 2.7957278410590667 and Bias is -0.638332428128527\n",
            "After epoch 29: Weight is 2.900452787838178 and Bias is -1.0131440707926926\n",
            "After epoch 30: Weight is 2.945640476448049 and Bias is -1.4478407878685182\n",
            "After epoch 31: Weight is 2.9473826173113977 and Bias is -1.9158778989473424\n",
            "After epoch 32: Weight is 2.9251625315185836 and Bias is -2.3830603415456926\n",
            "After epoch 33: Weight is 2.894867540929329 and Bias is -2.8214731498568004\n",
            "After epoch 34: Weight is 2.864845909037988 and Bias is -3.2174008914501857\n",
            "After epoch 35: Weight is 2.83751794561998 and Bias is -3.568316377402982\n",
            "After epoch 36: Weight is 2.812433662773912 and Bias is -3.8771846409671094\n",
            "After epoch 37: Weight is 2.7884461795768467 and Bias is -4.1487137534545715\n",
            "After epoch 38: Weight is 2.764989196905156 and Bias is -4.387529372326379\n",
            "After epoch 39: Weight is 2.7428745432388264 and Bias is -4.5973674596467\n",
            "After epoch 40: Weight is 2.7247683723149616 and Bias is -4.780747072076992\n",
            "After epoch 41: Weight is 2.715150218072187 and Bias is -4.9389822852669925\n",
            "After epoch 42: Weight is 2.719348391558471 and Bias is -5.072607191785235\n",
            "After epoch 43: Weight is 2.7415741188938836 and Bias is -5.182212836983603\n",
            "After epoch 44: Weight is 2.7828395517191202 and Bias is -5.2693322890733585\n",
            "After epoch 45: Weight is 2.8402260770807652 and Bias is -5.3367847773599175\n",
            "After epoch 46: Weight is 2.908064594627415 and Bias is -5.388252561117523\n",
            "After epoch 47: Weight is 2.9800452571182134 and Bias is -5.427481179028576\n",
            "After epoch 48: Weight is 3.0508706743669087 and Bias is -5.457655368589124\n",
            "After epoch 49: Weight is 3.1168976250690994 and Bias is -5.481171848068905\n",
            "After epoch 50: Weight is 3.1760312669691375 and Bias is -5.499703993123715\n",
            "After epoch 51: Weight is 3.2273265947331766 and Bias is -5.514377913573809\n",
            "After epoch 52: Weight is 3.2705834032366536 and Bias is -5.525946938806853\n",
            "After epoch 53: Weight is 3.306037129688553 and Bias is -5.534924822226117\n",
            "After epoch 54: Weight is 3.3341522914891573 and Bias is -5.541675899918792\n",
            "After epoch 55: Weight is 3.3554947699895648 and Bias is -5.546472331769068\n",
            "After epoch 56: Weight is 3.370657232289908 and Bias is -5.549529120270681\n",
            "After epoch 57: Weight is 3.38021812253414 and Bias is -5.551024999887588\n",
            "After epoch 58: Weight is 3.384721142850667 and Bias is -5.5511145989766515\n",
            "After epoch 59: Weight is 3.3846670095351086 and Bias is -5.549935269444468\n",
            "After epoch 60: Weight is 3.3805124996750417 and Bias is -5.547610649221163\n",
            "After epoch 61: Weight is 3.372673831050741 and Bias is -5.544252187456788\n",
            "After epoch 62: Weight is 3.3615326540324655 and Bias is -5.539959352639401\n",
            "After epoch 63: Weight is 3.347443669093574 and Bias is -5.534818939926078\n",
            "After epoch 64: Weight is 3.330743300599581 and Bias is -5.528903720542241\n",
            "After epoch 65: Weight is 3.3117590630703297 and Bias is -5.522270589362702\n",
            "After epoch 66: Weight is 3.290819306266494 and Bias is -5.514958343610032\n",
            "After epoch 67: Weight is 3.268262945893698 and Bias is -5.506985255428453\n",
            "After epoch 68: Weight is 3.2444485889439956 and Bias is -5.498346679307821\n",
            "After epoch 69: Weight is 3.2197621609806566 and Bias is -5.489013056446963\n",
            "After epoch 70: Weight is 3.19462177479654 and Bias is -5.47892882742384\n",
            "After epoch 71: Weight is 3.1694782311643444 and Bias is -5.4680129082960685\n",
            "After epoch 72: Weight is 3.1448093653224354 and Bias is -5.456161462855579\n",
            "After epoch 73: Weight is 3.121106663626337 and Bias is -5.443253628742469\n",
            "After epoch 74: Weight is 3.0988534001407966 and Bias is -5.429160536196298\n",
            "After epoch 75: Weight is 3.078495098600282 and Bias is -5.413757347559793\n",
            "After epoch 76: Weight is 3.060405250430836 and Bias is -5.396937204993974\n",
            "After epoch 77: Weight is 3.0448513635348746 and Bias is -5.378625120342114\n",
            "After epoch 78: Weight is 3.031967719601771 and Bias is -5.3587893155107125\n",
            "After epoch 79: Weight is 3.021740865344557 and Bias is -5.337447648241705\n",
            "After epoch 80: Weight is 3.0140115845009627 and Bias is -5.314667645886597\n",
            "After epoch 81: Weight is 3.0084934750177963 and Bias is -5.2905600895369105\n",
            "After epoch 82: Weight is 3.0048045472208815 and Bias is -5.265267545312523\n",
            "After epoch 83: Weight is 3.002505773648485 and Bias is -5.238950210893752\n",
            "After epoch 84: Weight is 3.0011399616091006 and Bias is -5.211771656983696\n",
            "After epoch 85: Weight is 3.0002655230809783 and Bias is -5.183886561571124\n",
            "After epoch 86: Weight is 2.9994819061135214 and Bias is -5.155431668880471\n",
            "After epoch 87: Weight is 2.9984457294594615 and Bias is -5.126520310357935\n",
            "After epoch 88: Weight is 2.996878402168333 and Bias is -5.097240148075359\n",
            "After epoch 89: Weight is 2.994566985585611 and Bias is -5.067653428729932\n",
            "After epoch 90: Weight is 2.9913603489137297 and Bias is -5.037798933790532\n",
            "After epoch 91: Weight is 2.9871625062330485 and Bias is -5.007694887286968\n",
            "After epoch 92: Weight is 2.9819246351975948 and Bias is -4.977342244251972\n",
            "After epoch 93: Weight is 2.9756368376484796 and Bias is -4.946727961678862\n",
            "After epoch 94: Weight is 2.9683203088668724 and Bias is -4.915828011440799\n",
            "After epoch 95: Weight is 2.9600202756160847 and Bias is -4.884610015629841\n",
            "After epoch 96: Weight is 2.9507998479339226 and Bias is -4.853035468214828\n",
            "After epoch 97: Weight is 2.9407347927460648 and Bias is -4.8210615586141925\n",
            "After epoch 98: Weight is 2.929909160156939 and Bias is -4.788642640594543\n",
            "After epoch 99: Weight is 2.918411657864793 and Bias is -4.755731401244094\n",
            "After epoch 100: Weight is 2.9063326609228484 and Bias is -4.722279785616352\n"
          ]
        }
      ]
    },
    {
      "cell_type": "code",
      "source": [
        "epoch = [i for i in range(1, 101)]"
      ],
      "metadata": {
        "id": "IVbHsOI2MLP4"
      },
      "execution_count": null,
      "outputs": []
    },
    {
      "cell_type": "code",
      "source": [
        "plt.plot(epoch, err_mom) \n",
        "plt.xlabel(\"Epoch\") \n",
        "plt.ylabel(\"Error\") \n",
        "plt.show()"
      ],
      "metadata": {
        "colab": {
          "base_uri": "https://localhost:8080/",
          "height": 279
        },
        "id": "v2uSBto5hvqL",
        "outputId": "052f9a6a-fa55-42f5-e885-0c83db6839cb"
      },
      "execution_count": null,
      "outputs": [
        {
          "output_type": "display_data",
          "data": {
            "text/plain": [
              "<Figure size 432x288 with 1 Axes>"
            ],
            "image/png": "[encoded data removed]"
          },
          "metadata": {
            "needs_background": "light"
          }
        }
      ]
    },
    {
      "cell_type": "code",
      "source": [
        "plt.plot(wt_mom, err_mom) \n",
        "plt.xlabel(\"Weight\") \n",
        "plt.ylabel(\"Error\") \n",
        "plt.show()"
      ],
      "metadata": {
        "colab": {
          "base_uri": "https://localhost:8080/",
          "height": 279
        },
        "id": "9WuJRO4Fh3Zm",
        "outputId": "326b1bb8-3219-474e-c475-ca525af70058"
      },
      "execution_count": null,
      "outputs": [
        {
          "output_type": "display_data",
          "data": {
            "text/plain": [
              "<Figure size 432x288 with 1 Axes>"
            ],
            "image/png": "[encoded data removed]"
          },
          "metadata": {
            "needs_background": "light"
          }
        }
      ]
    },
    {
      "cell_type": "markdown",
      "source": [
        "# **ADAGRAD**"
      ],
      "metadata": {
        "id": "ibY3YQBojMN-"
      }
    },
    {
      "cell_type": "code",
      "source": [
        "def adagrad_gd(X, Y, epochs): \n",
        "  w = -2 \n",
        "  b = -2 \n",
        "  c = 1 \n",
        "  eta = 1 \n",
        "  eps = 2 \n",
        "  err_list = [] \n",
        "  W = [] \n",
        "  B = [] \n",
        "  v_w = 0 \n",
        "  v_b = 0 \n",
        "  for i in range(epochs): \n",
        "    temp_dw = 0 \n",
        "    temp_db = 0 \n",
        "    for x, y in zip(X, Y): \n",
        "      y_hat = sigmoid(x, w, b)\n",
        "      temp_dw += delta_w(x, y, y_hat, c) \n",
        "      temp_db += delta_b(y, y_hat, c) \n",
        "\n",
        "    v_w = v_w + temp_dw**2 \n",
        "    v_b = v_b + temp_db**2 \n",
        "\n",
        "    w = w - (eta*temp_dw)/(np.sqrt(v_w + eps)) \n",
        "    b = b - (eta*temp_db)/(np.sqrt(v_w + eps)) \n",
        "\n",
        "    W.append(w) \n",
        "    B.append(b) \n",
        "    err_list.append(error(Y, sigmoid(X, w, b))) \n",
        "    print(f\"After epoch {i+1}: Weight is {w} and Bias is {w}\") \n",
        "  return W, B, err_list "
      ],
      "metadata": {
        "id": "E6Fpq6VajOsq"
      },
      "execution_count": null,
      "outputs": []
    },
    {
      "cell_type": "code",
      "source": [
        "wt_adagrad, bias_adagrad, err_adagrad = adagrad_gd(X, Y, 100)"
      ],
      "metadata": {
        "colab": {
          "base_uri": "https://localhost:8080/"
        },
        "id": "v-H0ZzoqliD3",
        "outputId": "dccedb8b-057f-40ac-f085-b6391c6a4370"
      },
      "execution_count": null,
      "outputs": [
        {
          "output_type": "stream",
          "name": "stdout",
          "text": [
            "After epoch 1: Weight is -1.9961163731260243 and Bias is -1.9961163731260243\n",
            "After epoch 2: Weight is -1.9921997690241617 and Bias is -1.9921997690241617\n",
            "After epoch 3: Weight is -1.988249627035326 and Bias is -1.988249627035326\n",
            "After epoch 4: Weight is -1.9842653717236984 and Bias is -1.9842653717236984\n",
            "After epoch 5: Weight is -1.9802464123397214 and Bias is -1.9802464123397214\n",
            "After epoch 6: Weight is -1.976192142258107 and Bias is -1.976192142258107\n",
            "After epoch 7: Weight is -1.9721019383894467 and Bias is -1.9721019383894467\n",
            "After epoch 8: Weight is -1.9679751605639109 and Bias is -1.9679751605639109\n",
            "After epoch 9: Weight is -1.9638111508854283 and Bias is -1.9638111508854283\n",
            "After epoch 10: Weight is -1.9596092330546249 and Bias is -1.9596092330546249\n",
            "After epoch 11: Weight is -1.9553687116586813 and Bias is -1.9553687116586813\n",
            "After epoch 12: Weight is -1.9510888714261458 and Bias is -1.9510888714261458\n",
            "After epoch 13: Weight is -1.9467689764445975 and Bias is -1.9467689764445975\n",
            "After epoch 14: Weight is -1.9424082693389075 and Bias is -1.9424082693389075\n",
            "After epoch 15: Weight is -1.9380059704076877 and Bias is -1.9380059704076877\n",
            "After epoch 16: Weight is -1.9335612767153374 and Bias is -1.9335612767153374\n",
            "After epoch 17: Weight is -1.9290733611369164 and Bias is -1.9290733611369164\n",
            "After epoch 18: Weight is -1.9245413713528652 and Bias is -1.9245413713528652\n",
            "After epoch 19: Weight is -1.9199644287903712 and Bias is -1.9199644287903712\n",
            "After epoch 20: Weight is -1.9153416275079436 and Bias is -1.9153416275079436\n",
            "After epoch 21: Weight is -1.9106720330194953 and Bias is -1.9106720330194953\n",
            "After epoch 22: Weight is -1.9059546810539485 and Bias is -1.9059546810539485\n",
            "After epoch 23: Weight is -1.9011885762460716 and Bias is -1.9011885762460716\n",
            "After epoch 24: Weight is -1.8963726907539178 and Bias is -1.8963726907539178\n",
            "After epoch 25: Weight is -1.8915059627978725 and Bias is -1.8915059627978725\n",
            "After epoch 26: Weight is -1.8865872951159148 and Bias is -1.8865872951159148\n",
            "After epoch 27: Weight is -1.88161555332926 and Bias is -1.88161555332926\n",
            "After epoch 28: Weight is -1.8765895642120785 and Bias is -1.8765895642120785\n",
            "After epoch 29: Weight is -1.8715081138584586 and Bias is -1.8715081138584586\n",
            "After epoch 30: Weight is -1.866369945739212 and Bias is -1.866369945739212\n",
            "After epoch 31: Weight is -1.8611737586404924 and Bias is -1.8611737586404924\n",
            "After epoch 32: Weight is -1.8559182044755107 and Bias is -1.8559182044755107\n",
            "After epoch 33: Weight is -1.850601885959873 and Bias is -1.850601885959873\n",
            "After epoch 34: Weight is -1.8452233541402348 and Bias is -1.8452233541402348\n",
            "After epoch 35: Weight is -1.8397811057650524 and Bias is -1.8397811057650524\n",
            "After epoch 36: Weight is -1.8342735804851986 and Bias is -1.8342735804851986\n",
            "After epoch 37: Weight is -1.828699157871098 and Bias is -1.828699157871098\n",
            "After epoch 38: Weight is -1.8230561542318031 and Bias is -1.8230561542318031\n",
            "After epoch 39: Weight is -1.8173428192200731 and Bias is -1.8173428192200731\n",
            "After epoch 40: Weight is -1.8115573322060052 and Bias is -1.8115573322060052\n",
            "After epoch 41: Weight is -1.8056977984000913 and Bias is -1.8056977984000913\n",
            "After epoch 42: Weight is -1.7997622447047201 and Bias is -1.7997622447047201\n",
            "After epoch 43: Weight is -1.7937486152710673 and Bias is -1.7937486152710673\n",
            "After epoch 44: Weight is -1.787654766736018 and Bias is -1.787654766736018\n",
            "After epoch 45: Weight is -1.7814784631111948 and Bias is -1.7814784631111948\n",
            "After epoch 46: Weight is -1.7752173702932887 and Bias is -1.7752173702932887\n",
            "After epoch 47: Weight is -1.7688690501616882 and Bias is -1.7688690501616882\n",
            "After epoch 48: Weight is -1.7624309542257912 and Bias is -1.7624309542257912\n",
            "After epoch 49: Weight is -1.755900416780357 and Bias is -1.755900416780357\n",
            "After epoch 50: Weight is -1.7492746475227052 and Bias is -1.7492746475227052\n",
            "After epoch 51: Weight is -1.7425507235804667 and Bias is -1.7425507235804667\n",
            "After epoch 52: Weight is -1.7357255808928156 and Bias is -1.7357255808928156\n",
            "After epoch 53: Weight is -1.7287960048816031 and Bias is -1.7287960048816031\n",
            "After epoch 54: Weight is -1.7217586203414341 and Bias is -1.7217586203414341\n",
            "After epoch 55: Weight is -1.7146098804693588 and Bias is -1.7146098804693588\n",
            "After epoch 56: Weight is -1.7073460549453492 and Bias is -1.7073460549453492\n",
            "After epoch 57: Weight is -1.699963216963895 and Bias is -1.699963216963895\n",
            "After epoch 58: Weight is -1.6924572291047038 and Bias is -1.6924572291047038\n",
            "After epoch 59: Weight is -1.6848237279163554 and Bias is -1.6848237279163554\n",
            "After epoch 60: Weight is -1.6770581070705644 and Bias is -1.6770581070705644\n",
            "After epoch 61: Weight is -1.6691554989261024 and Bias is -1.6691554989261024\n",
            "After epoch 62: Weight is -1.661110754320002 and Bias is -1.661110754320002\n",
            "After epoch 63: Weight is -1.6529184203789349 and Bias is -1.6529184203789349\n",
            "After epoch 64: Weight is -1.6445727161150294 and Bias is -1.6445727161150294\n",
            "After epoch 65: Weight is -1.6360675055371874 and Bias is -1.6360675055371874\n",
            "After epoch 66: Weight is -1.627396267970303 and Bias is -1.627396267970303\n",
            "After epoch 67: Weight is -1.6185520652297067 and Bias is -1.6185520652297067\n",
            "After epoch 68: Weight is -1.6095275052453808 and Bias is -1.6095275052453808\n",
            "After epoch 69: Weight is -1.6003147016685473 and Bias is -1.6003147016685473\n",
            "After epoch 70: Weight is -1.5909052289202983 and Bias is -1.5909052289202983\n",
            "After epoch 71: Weight is -1.5812900720557501 and Bias is -1.5812900720557501\n",
            "After epoch 72: Weight is -1.5714595707150507 and Bias is -1.5714595707150507\n",
            "After epoch 73: Weight is -1.561403356311022 and Bias is -1.561403356311022\n",
            "After epoch 74: Weight is -1.551110281458083 and Bias is -1.551110281458083\n",
            "After epoch 75: Weight is -1.5405683404731088 and Bias is -1.5405683404731088\n",
            "After epoch 76: Weight is -1.5297645795694634 and Bias is -1.5297645795694634\n",
            "After epoch 77: Weight is -1.518684995112333 and Bias is -1.518684995112333\n",
            "After epoch 78: Weight is -1.507314417996183 and Bias is -1.507314417996183\n",
            "After epoch 79: Weight is -1.4956363818303904 and Bias is -1.4956363818303904\n",
            "After epoch 80: Weight is -1.4836329721597923 and Bias is -1.4836329721597923\n",
            "After epoch 81: Weight is -1.4712846533811699 and Bias is -1.4712846533811699\n",
            "After epoch 82: Weight is -1.4585700693161658 and Bias is -1.4585700693161658\n",
            "After epoch 83: Weight is -1.4454658125288875 and Bias is -1.4454658125288875\n",
            "After epoch 84: Weight is -1.431946156384002 and Bias is -1.431946156384002\n",
            "After epoch 85: Weight is -1.4179827424644837 and Bias is -1.4179827424644837\n",
            "After epoch 86: Weight is -1.4035442142221295 and Bias is -1.4035442142221295\n",
            "After epoch 87: Weight is -1.388595785504251 and Bias is -1.388595785504251\n",
            "After epoch 88: Weight is -1.3730987297320867 and Bias is -1.3730987297320867\n",
            "After epoch 89: Weight is -1.3570097717896585 and Bias is -1.3570097717896585\n",
            "After epoch 90: Weight is -1.3402803598259436 and Bias is -1.3402803598259436\n",
            "After epoch 91: Weight is -1.3228557877751481 and Bias is -1.3228557877751481\n",
            "After epoch 92: Weight is -1.3046741308936092 and Bias is -1.3046741308936092\n",
            "After epoch 93: Weight is -1.2856649451944717 and Bias is -1.2856649451944717\n",
            "After epoch 94: Weight is -1.265747666180898 and Bias is -1.265747666180898\n",
            "After epoch 95: Weight is -1.2448296210632115 and Bias is -1.2448296210632115\n",
            "After epoch 96: Weight is -1.222803539238343 and Bias is -1.222803539238343\n",
            "After epoch 97: Weight is -1.1995444045549952 and Bias is -1.1995444045549952\n",
            "After epoch 98: Weight is -1.1749054342711431 and Bias is -1.1749054342711431\n",
            "After epoch 99: Weight is -1.148712885202649 and Bias is -1.148712885202649\n",
            "After epoch 100: Weight is -1.1207592642998123 and Bias is -1.1207592642998123\n"
          ]
        }
      ]
    },
    {
      "cell_type": "code",
      "source": [
        "plt.plot(epoch, err_adagrad) \n",
        "plt.xlabel(\"Epoch\") \n",
        "plt.ylabel(\"Error\") \n",
        "plt.show()"
      ],
      "metadata": {
        "colab": {
          "base_uri": "https://localhost:8080/",
          "height": 279
        },
        "id": "17nNXhqOlq8c",
        "outputId": "4c08dcc0-1c8f-47b4-c3a7-a4d0cfe8e562"
      },
      "execution_count": null,
      "outputs": [
        {
          "output_type": "display_data",
          "data": {
            "text/plain": [
              "<Figure size 432x288 with 1 Axes>"
            ],
            "image/png": "[encoded data removed]"
          },
          "metadata": {
            "needs_background": "light"
          }
        }
      ]
    },
    {
      "cell_type": "code",
      "source": [
        "plt.plot(wt_adagrad, err_adagrad) \n",
        "plt.xlabel(\"Weight\") \n",
        "plt.ylabel(\"Error\") \n",
        "plt.show()"
      ],
      "metadata": {
        "colab": {
          "base_uri": "https://localhost:8080/",
          "height": 279
        },
        "id": "UmgBu3bRl1_0",
        "outputId": "1eafb971-d5d0-4317-da01-716bd97474a9"
      },
      "execution_count": null,
      "outputs": [
        {
          "output_type": "display_data",
          "data": {
            "text/plain": [
              "<Figure size 432x288 with 1 Axes>"
            ],
            "image/png": "[encoded data removed]"
          },
          "metadata": {
            "needs_background": "light"
          }
        }
      ]
    },
    {
      "cell_type": "markdown",
      "source": [
        "# **ADADELTA / RMSPROP**"
      ],
      "metadata": {
        "id": "SpdR-BG1iceP"
      }
    },
    {
      "cell_type": "code",
      "source": [
        "def adadelta(X, Y, epochs): \n",
        "  w = -2 \n",
        "  b = -2 \n",
        "  c = 1 \n",
        "  beta = 0.9\n",
        "  eta = 1 \n",
        "  eps = 2  \n",
        "  vw = 0 \n",
        "  vb = 0 \n",
        "  W = [] \n",
        "  B = [] \n",
        "  err_list = [] \n",
        "  for i in range(epochs): \n",
        "    temp_dw = 0 \n",
        "    temp_db = 0 \n",
        "    for x, y in zip(X, Y): \n",
        "      y_hat = sigmoid(x, w, b) \n",
        "      temp_dw += delta_w(x, y, y_hat, c) \n",
        "      temp_db += delta_b(y, y_hat, c) \n",
        "    \n",
        "    vw = beta*vw + (1-beta)*temp_dw*temp_dw \n",
        "    vb = beta*vb + (1-beta)*temp_db*temp_db \n",
        "\n",
        "    w = w - (eta*temp_dw)/(np.sqrt(vw) + eps) \n",
        "    b = b - (eta*temp_db)/(np.sqrt(vb) + eps) \n",
        "\n",
        "    W.append(w) \n",
        "    B.append(b) \n",
        "    err_list.append(error(Y, sigmoid(X, w, b))) \n",
        "    print(f\"After epoch {i+1}: Weight is {w} and Bias is {b}\") \n",
        "  return W, B, err_list "
      ],
      "metadata": {
        "id": "Zmm0wcI0igg-"
      },
      "execution_count": null,
      "outputs": []
    },
    {
      "cell_type": "code",
      "source": [
        "wt_adadelta, bias_adadelta, err_adadelta = adadelta(X, Y, 100)"
      ],
      "metadata": {
        "colab": {
          "base_uri": "https://localhost:8080/"
        },
        "id": "N9vwI_YJn-ng",
        "outputId": "c39d38f2-8cf8-4dfe-aa7a-10e336973087"
      },
      "execution_count": null,
      "outputs": [
        {
          "output_type": "stream",
          "name": "stdout",
          "text": [
            "After epoch 1: Weight is -1.997256223120722 and Bias is -1.996149115549856\n",
            "After epoch 2: Weight is -1.9944969137492197 and Bias is -1.9922846915691401\n",
            "After epoch 3: Weight is -1.991721630266128 and Bias is -1.9884061189900286\n",
            "After epoch 4: Weight is -1.9889300439145556 and Bias is -1.9845130209655755\n",
            "After epoch 5: Weight is -1.98612186832929 and Bias is -1.9806051122513006\n",
            "After epoch 6: Weight is -1.9832968374940776 and Bias is -1.9766821551811036\n",
            "After epoch 7: Weight is -1.9804546961420402 and Bias is -1.972743940529913\n",
            "After epoch 8: Weight is -1.9775951947437587 and Bias is -1.9687902775779045\n",
            "After epoch 9: Weight is -1.9747180865583769 and Bias is -1.9648209883258405\n",
            "After epoch 10: Weight is -1.9718231257404712 and Bias is -1.960835903842981\n",
            "After epoch 11: Weight is -1.9689100660390884 and Bias is -1.9568348618169353\n",
            "After epoch 12: Weight is -1.9659786598524254 and Bias is -1.9528177048299284\n",
            "After epoch 13: Weight is -1.963028657507652 and Bias is -1.9487842790987544\n",
            "After epoch 14: Weight is -1.960059806689259 and Bias is -1.9447344335240224\n",
            "After epoch 15: Weight is -1.9570718519686225 and Bias is -1.9406680189533059\n",
            "After epoch 16: Weight is -1.9540645344043166 and Bias is -1.9365848875967595\n",
            "After epoch 17: Weight is -1.9510375911928157 and Bias is -1.9324848925542184\n",
            "After epoch 18: Weight is -1.9479907553555664 and Bias is -1.9283678874255998\n",
            "After epoch 19: Weight is -1.9449237554524867 and Bias is -1.924233725984718\n",
            "After epoch 20: Weight is -1.9418363153146654 and Bias is -1.9200822619021434\n",
            "After epoch 21: Weight is -1.9387281537908851 and Bias is -1.915913348506513\n",
            "After epoch 22: Weight is -1.935598984503877 and Bias is -1.9117268385763306\n",
            "After epoch 23: Weight is -1.9324485156131261 and Bias is -1.9075225841561803\n",
            "After epoch 24: Weight is -1.9292764495817065 and Bias is -1.9033004363926365\n",
            "After epoch 25: Weight is -1.9260824829451026 and Bias is -1.899060245386159\n",
            "After epoch 26: Weight is -1.922866306080328 and Bias is -1.8948018600560153\n",
            "After epoch 27: Weight is -1.9196276029739199 and Bias is -1.8905251280158393\n",
            "After epoch 28: Weight is -1.9163660509875853 and Bias is -1.8862298954578753\n",
            "After epoch 29: Weight is -1.913081320620422 and Bias is -1.881916007044292\n",
            "After epoch 30: Weight is -1.9097730752667557 and Bias is -1.8775833058042173\n",
            "After epoch 31: Weight is -1.9064409709687131 and Bias is -1.8732316330353547\n",
            "After epoch 32: Weight is -1.9030846561627208 and Bias is -1.8688608282092054\n",
            "After epoch 33: Weight is -1.8997037714191556 and Bias is -1.864470728879055\n",
            "After epoch 34: Weight is -1.8962979491744145 and Bias is -1.8600611705899894\n",
            "After epoch 35: Weight is -1.8928668134546833 and Bias is -1.855631986790293\n",
            "After epoch 36: Weight is -1.8894099795906996 and Bias is -1.8511830087436476\n",
            "After epoch 37: Weight is -1.8859270539228072 and Bias is -1.8467140654416088\n",
            "After epoch 38: Weight is -1.8824176334955949 and Bias is -1.8422249835158853\n",
            "After epoch 39: Weight is -1.8788813057414024 and Bias is -1.837715587149976\n",
            "After epoch 40: Weight is -1.8753176481519644 and Bias is -1.8331856979897547\n",
            "After epoch 41: Weight is -1.871726227937438 and Bias is -1.8286351350526113\n",
            "After epoch 42: Weight is -1.868106601672039 and Bias is -1.824063714634778\n",
            "After epoch 43: Weight is -1.8644583149254812 and Bias is -1.8194712502164785\n",
            "After epoch 44: Weight is -1.8607809018793813 and Bias is -1.8148575523645503\n",
            "After epoch 45: Weight is -1.8570738849277484 and Bias is -1.8102224286321915\n",
            "After epoch 46: Weight is -1.853336774260644 and Bias is -1.8055656834554876\n",
            "After epoch 47: Weight is -1.8495690674300431 and Bias is -1.8008871180463706\n",
            "After epoch 48: Weight is -1.845770248896883 and Bias is -1.7961865302816593\n",
            "After epoch 49: Weight is -1.8419397895582241 and Bias is -1.7914637145878225\n",
            "After epoch 50: Weight is -1.838077146253392 and Bias is -1.7867184618210972\n",
            "After epoch 51: Weight is -1.8341817612478992 and Bias is -1.7819505591425828\n",
            "After epoch 52: Weight is -1.8302530616938777 and Bias is -1.7771597898879152\n",
            "After epoch 53: Weight is -1.8262904590656708 and Bias is -1.7723459334311114\n",
            "After epoch 54: Weight is -1.8222933485691548 and Bias is -1.7675087650421533\n",
            "After epoch 55: Weight is -1.8182611085232645 and Bias is -1.7626480557378579\n",
            "After epoch 56: Weight is -1.8141930997121032 and Bias is -1.7577635721255567\n",
            "After epoch 57: Weight is -1.8100886647059082 and Bias is -1.7528550762390798\n",
            "After epoch 58: Weight is -1.8059471271490317 and Bias is -1.7479223253665082\n",
            "After epoch 59: Weight is -1.80176779101297 and Bias is -1.742965071869128\n",
            "After epoch 60: Weight is -1.7975499398123436 and Bias is -1.737983062990979\n",
            "After epoch 61: Weight is -1.7932928357815836 and Bias is -1.7329760406583505\n",
            "After epoch 62: Weight is -1.7889957190099233 and Bias is -1.7279437412685388\n",
            "After epoch 63: Weight is -1.7846578065321277 and Bias is -1.7228858954671222\n",
            "After epoch 64: Weight is -1.7802782913722064 and Bias is -1.7178022279129663\n",
            "After epoch 65: Weight is -1.7758563415371587 and Bias is -1.7126924570301085\n",
            "After epoch 66: Weight is -1.7713910989575847 and Bias is -1.7075562947456109\n",
            "After epoch 67: Weight is -1.766881678371762 and Bias is -1.7023934462123997\n",
            "After epoch 68: Weight is -1.7623271661495323 and Bias is -1.697203609516038\n",
            "After epoch 69: Weight is -1.7577266190520686 and Bias is -1.691986475364293\n",
            "After epoch 70: Weight is -1.7530790629232946 and Bias is -1.6867417267582698\n",
            "After epoch 71: Weight is -1.7483834913083969 and Bias is -1.6814690386437916\n",
            "After epoch 72: Weight is -1.7436388639945215 and Bias is -1.676168077541592\n",
            "After epoch 73: Weight is -1.7388441054683534 and Bias is -1.6708385011547726\n",
            "After epoch 74: Weight is -1.7339981032848573 and Bias is -1.6654799579518529\n",
            "After epoch 75: Weight is -1.7290997063409972 and Bias is -1.6600920867235938\n",
            "After epoch 76: Weight is -1.7241477230477449 and Bias is -1.65467451611163\n",
            "After epoch 77: Weight is -1.7191409193931373 and Bias is -1.6492268641067727\n",
            "After epoch 78: Weight is -1.714078016888536 and Bias is -1.6437487375146607\n",
            "After epoch 79: Weight is -1.7089576903895807 and Bias is -1.638239731386238\n",
            "After epoch 80: Weight is -1.7037785657826003 and Bias is -1.6326994284103091\n",
            "After epoch 81: Weight is -1.698539217526443 and Bias is -1.627127398265177\n",
            "After epoch 82: Weight is -1.693238166038812 and Bias is -1.6215231969261028\n",
            "After epoch 83: Weight is -1.687873874915219 and Bias is -1.6158863659250189\n",
            "After epoch 84: Weight is -1.6824447479676063 and Bias is -1.6102164315586045\n",
            "After epoch 85: Weight is -1.676949126068507 and Bias is -1.6045129040404635\n",
            "After epoch 86: Weight is -1.6713852837853078 and Bias is -1.5987752765927372\n",
            "After epoch 87: Weight is -1.665751425787747 and Bias is -1.593003024472042\n",
            "After epoch 88: Weight is -1.6600456830101773 and Bias is -1.5871956039241177\n",
            "After epoch 89: Weight is -1.6542661085483583 and Bias is -1.5813524510610244\n",
            "After epoch 90: Weight is -1.6484106732685762 and Bias is -1.5754729806541015\n",
            "After epoch 91: Weight is -1.6424772611047063 and Bias is -1.5695565848352269\n",
            "After epoch 92: Weight is -1.6364636640163976 and Bias is -1.563602631698138\n",
            "After epoch 93: Weight is -1.6303675765788483 and Bias is -1.5576104637907258\n",
            "After epoch 94: Weight is -1.6241865901716068 and Bias is -1.5515793964882545\n",
            "After epoch 95: Weight is -1.61791818673045 and Bias is -1.5455087162363816\n",
            "After epoch 96: Weight is -1.6115597320225856 and Bias is -1.5393976786516534\n",
            "After epoch 97: Weight is -1.6051084684011736 and Bias is -1.5332455064657913\n",
            "After epoch 98: Weight is -1.5985615069903676 and Bias is -1.5270513872985576\n",
            "After epoch 99: Weight is -1.5919158192466938 and Bias is -1.5208144712422735\n",
            "After epoch 100: Weight is -1.585168227836503 and Bias is -1.5145338682391065\n"
          ]
        }
      ]
    },
    {
      "cell_type": "code",
      "source": [
        "plt.plot(epoch, err_adadelta) \n",
        "plt.xlabel(\"Epoch\") \n",
        "plt.ylabel(\"Error\") \n",
        "plt.show()"
      ],
      "metadata": {
        "colab": {
          "base_uri": "https://localhost:8080/",
          "height": 279
        },
        "id": "9mURfZnyoEes",
        "outputId": "31003790-5871-4baa-cc84-67db0b927edf"
      },
      "execution_count": null,
      "outputs": [
        {
          "output_type": "display_data",
          "data": {
            "text/plain": [
              "<Figure size 432x288 with 1 Axes>"
            ],
            "image/png": "[encoded data removed]"
          },
          "metadata": {
            "needs_background": "light"
          }
        }
      ]
    },
    {
      "cell_type": "code",
      "source": [
        "plt.plot(wt_adadelta, err_adadelta) \n",
        "plt.xlabel(\"Weights\") \n",
        "plt.ylabel(\"Error\") \n",
        "plt.show()"
      ],
      "metadata": {
        "colab": {
          "base_uri": "https://localhost:8080/",
          "height": 279
        },
        "id": "t9HkW6nIoIjv",
        "outputId": "9ce3185f-7c76-4c47-cb68-d9547b7466c1"
      },
      "execution_count": null,
      "outputs": [
        {
          "output_type": "display_data",
          "data": {
            "text/plain": [
              "<Figure size 432x288 with 1 Axes>"
            ],
            "image/png": "[encoded data removed]"
          },
          "metadata": {
            "needs_background": "light"
          }
        }
      ]
    },
    {
      "cell_type": "markdown",
      "source": [
        "# **NAG**"
      ],
      "metadata": {
        "id": "_00O8RyfoTi_"
      }
    },
    {
      "cell_type": "code",
      "source": [
        "def nag_gd(X, Y, epochs): \n",
        "  w = -2 \n",
        "  b = -2 \n",
        "  c = 1 \n",
        "  eta = 1 \n",
        "  beta = 0.9 \n",
        "  W = [] \n",
        "  B = [] \n",
        "  err_list = [] \n",
        "  prev_vw = 0 \n",
        "  prev_vb = 0 \n",
        "  for i in range(epochs): \n",
        "    temp_dw = 0\n",
        "    temp_db = 0 \n",
        "    vw = w - beta*prev_vw  \n",
        "    vb = b - beta*prev_vb \n",
        "    for x, y in zip(X, Y): \n",
        "      y_hat = sigmoid(x, vw, vb) \n",
        "      temp_dw += delta_w(x, y, y_hat, c) \n",
        "      temp_db += delta_b(y, y_hat, c) \n",
        "    v_w = beta*prev_vw + eta*temp_dw \n",
        "    v_b = beta*prev_vb + eta*temp_db \n",
        "\n",
        "    w = w - v_w \n",
        "    b = b - v_b \n",
        "    prev_vw = vw \n",
        "    prev_vb = vb \n",
        "    W.append(w) \n",
        "    B.append(b) \n",
        "    err_list.append(error(Y, sigmoid(X, w, b)))\n",
        "    print(f\"After epoch {i+1}: Weight is {w} and Bias is {b}\") \n",
        "  return W, B, err_list"
      ],
      "metadata": {
        "id": "ilPKKMHaoQUa"
      },
      "execution_count": null,
      "outputs": []
    },
    {
      "cell_type": "code",
      "source": [
        "wt_nag, bias_nag, err_nag = nag_gd(X, Y, 100)"
      ],
      "metadata": {
        "colab": {
          "base_uri": "https://localhost:8080/"
        },
        "id": "WedLl-X3rkGH",
        "outputId": "5a8442ec-0163-4aba-9d54-9feafcb9bcde"
      },
      "execution_count": null,
      "outputs": [
        {
          "output_type": "stream",
          "name": "stdout",
          "text": [
            "After epoch 1: Weight is -1.99450768078436 and Bias is -1.9922888407847856\n",
            "After epoch 2: Weight is 0.09208752969883705 and Bias is -0.12233092205684715\n",
            "After epoch 3: Weight is 0.3496820549726968 and Bias is 0.015139237804713934\n",
            "After epoch 4: Weight is 0.28018745529876277 and Bias is -0.023339239295008182\n",
            "After epoch 5: Weight is 0.31190519273741324 and Bias is -0.00845939406294332\n",
            "After epoch 6: Weight is 0.2973070318717679 and Bias is -0.015577862980060121\n",
            "After epoch 7: Weight is 0.30410477691289906 and Bias is -0.012309312554174496\n",
            "After epoch 8: Weight is 0.3009367297700881 and Bias is -0.01384051547967325\n",
            "After epoch 9: Weight is 0.30241384383376124 and Bias is -0.01312827006823844\n",
            "After epoch 10: Weight is 0.3017250985067943 and Bias is -0.013460725734418671\n",
            "After epoch 11: Weight is 0.30204625170762817 and Bias is -0.013305782477370723\n",
            "After epoch 12: Weight is 0.301896501760589 and Bias is -0.013378047234044135\n",
            "After epoch 13: Weight is 0.3019663284864341 and Bias is -0.01334435458788299\n",
            "After epoch 14: Weight is 0.3019337690680355 and Bias is -0.013360065872763956\n",
            "After epoch 15: Weight is 0.30194895116163945 and Bias is -0.013352740046013532\n",
            "After epoch 16: Weight is 0.30194187192107524 and Bias is -0.013356156034132476\n",
            "After epoch 17: Weight is 0.3019451728919176 and Bias is -0.013354563205050407\n",
            "After epoch 18: Weight is 0.3019436336860834 and Bias is -0.013355305925208914\n",
            "After epoch 19: Weight is 0.30194435140057596 and Bias is -0.01335495960347295\n",
            "After epoch 20: Weight is 0.30194401673832344 and Bias is -0.013355121089513419\n",
            "After epoch 21: Weight is 0.30194417278759444 and Bias is -0.013355045790394083\n",
            "After epoch 22: Weight is 0.3019441000235621 and Bias is -0.01335508090153641\n",
            "After epoch 23: Weight is 0.3019441339526179 and Bias is -0.01335506452960366\n",
            "After epoch 24: Weight is 0.30194411813187805 and Bias is -0.013355072163653241\n",
            "After epoch 25: Weight is 0.30194412550891225 and Bias is -0.01335506860398125\n",
            "After epoch 26: Weight is 0.3019441220690836 and Bias is -0.013355070263816562\n",
            "After epoch 27: Weight is 0.30194412367303736 and Bias is -0.013355069489853898\n",
            "After epoch 28: Weight is 0.3019441229251316 and Bias is -0.013355069850744068\n",
            "After epoch 29: Weight is 0.30194412327387166 and Bias is -0.01335506968246502\n",
            "After epoch 30: Weight is 0.30194412311125807 and Bias is -0.013355069760931666\n",
            "After epoch 31: Weight is 0.3019441231870831 and Bias is -0.013355069724343527\n",
            "After epoch 32: Weight is 0.3019441231517268 and Bias is -0.01335506974140413\n",
            "After epoch 33: Weight is 0.30194412316821295 and Bias is -0.013355069733448986\n",
            "After epoch 34: Weight is 0.30194412316052555 and Bias is -0.013355069737158408\n",
            "After epoch 35: Weight is 0.3019441231641101 and Bias is -0.013355069735428726\n",
            "After epoch 36: Weight is 0.3019441231624387 and Bias is -0.013355069736235245\n",
            "After epoch 37: Weight is 0.30194412316321806 and Bias is -0.013355069735859142\n",
            "After epoch 38: Weight is 0.3019441231628547 and Bias is -0.013355069736034512\n",
            "After epoch 39: Weight is 0.30194412316302416 and Bias is -0.013355069735952761\n",
            "After epoch 40: Weight is 0.3019441231629451 and Bias is -0.01335506973599088\n",
            "After epoch 41: Weight is 0.3019441231629819 and Bias is -0.013355069735973106\n",
            "After epoch 42: Weight is 0.3019441231629647 and Bias is -0.013355069735981415\n",
            "After epoch 43: Weight is 0.30194412316297276 and Bias is -0.013355069735977554\n",
            "After epoch 44: Weight is 0.301944123162969 and Bias is -0.013355069735979382\n",
            "After epoch 45: Weight is 0.3019441231629707 and Bias is -0.01335506973597855\n",
            "After epoch 46: Weight is 0.3019441231629699 and Bias is -0.013355069735978902\n",
            "After epoch 47: Weight is 0.30194412316297026 and Bias is -0.013355069735978711\n",
            "After epoch 48: Weight is 0.30194412316297015 and Bias is -0.013355069735978779\n",
            "After epoch 49: Weight is 0.30194412316297026 and Bias is -0.013355069735978772\n",
            "After epoch 50: Weight is 0.30194412316297015 and Bias is -0.013355069735978803\n",
            "After epoch 51: Weight is 0.3019441231629702 and Bias is -0.013355069735978742\n",
            "After epoch 52: Weight is 0.30194412316297026 and Bias is -0.013355069735978763\n",
            "After epoch 53: Weight is 0.30194412316297026 and Bias is -0.01335506973597879\n",
            "After epoch 54: Weight is 0.30194412316297026 and Bias is -0.013355069735978765\n",
            "After epoch 55: Weight is 0.30194412316297026 and Bias is -0.013355069735978765\n",
            "After epoch 56: Weight is 0.30194412316297026 and Bias is -0.013355069735978763\n",
            "After epoch 57: Weight is 0.30194412316297026 and Bias is -0.013355069735978765\n",
            "After epoch 58: Weight is 0.30194412316297026 and Bias is -0.013355069735978761\n",
            "After epoch 59: Weight is 0.30194412316297026 and Bias is -0.013355069735978765\n",
            "After epoch 60: Weight is 0.30194412316297026 and Bias is -0.013355069735978763\n",
            "After epoch 61: Weight is 0.30194412316297026 and Bias is -0.013355069735978765\n",
            "After epoch 62: Weight is 0.30194412316297026 and Bias is -0.013355069735978761\n",
            "After epoch 63: Weight is 0.30194412316297026 and Bias is -0.013355069735978765\n",
            "After epoch 64: Weight is 0.30194412316297026 and Bias is -0.013355069735978763\n",
            "After epoch 65: Weight is 0.30194412316297026 and Bias is -0.013355069735978765\n",
            "After epoch 66: Weight is 0.30194412316297026 and Bias is -0.013355069735978761\n",
            "After epoch 67: Weight is 0.30194412316297026 and Bias is -0.013355069735978765\n",
            "After epoch 68: Weight is 0.30194412316297026 and Bias is -0.013355069735978763\n",
            "After epoch 69: Weight is 0.30194412316297026 and Bias is -0.013355069735978765\n",
            "After epoch 70: Weight is 0.30194412316297026 and Bias is -0.013355069735978761\n",
            "After epoch 71: Weight is 0.30194412316297026 and Bias is -0.013355069735978765\n",
            "After epoch 72: Weight is 0.30194412316297026 and Bias is -0.013355069735978763\n",
            "After epoch 73: Weight is 0.30194412316297026 and Bias is -0.013355069735978765\n",
            "After epoch 74: Weight is 0.30194412316297026 and Bias is -0.013355069735978761\n",
            "After epoch 75: Weight is 0.30194412316297026 and Bias is -0.013355069735978765\n",
            "After epoch 76: Weight is 0.30194412316297026 and Bias is -0.013355069735978763\n",
            "After epoch 77: Weight is 0.30194412316297026 and Bias is -0.013355069735978765\n",
            "After epoch 78: Weight is 0.30194412316297026 and Bias is -0.013355069735978761\n",
            "After epoch 79: Weight is 0.30194412316297026 and Bias is -0.013355069735978765\n",
            "After epoch 80: Weight is 0.30194412316297026 and Bias is -0.013355069735978763\n",
            "After epoch 81: Weight is 0.30194412316297026 and Bias is -0.013355069735978765\n",
            "After epoch 82: Weight is 0.30194412316297026 and Bias is -0.013355069735978761\n",
            "After epoch 83: Weight is 0.30194412316297026 and Bias is -0.013355069735978765\n",
            "After epoch 84: Weight is 0.30194412316297026 and Bias is -0.013355069735978763\n",
            "After epoch 85: Weight is 0.30194412316297026 and Bias is -0.013355069735978765\n",
            "After epoch 86: Weight is 0.30194412316297026 and Bias is -0.013355069735978761\n",
            "After epoch 87: Weight is 0.30194412316297026 and Bias is -0.013355069735978765\n",
            "After epoch 88: Weight is 0.30194412316297026 and Bias is -0.013355069735978763\n",
            "After epoch 89: Weight is 0.30194412316297026 and Bias is -0.013355069735978765\n",
            "After epoch 90: Weight is 0.30194412316297026 and Bias is -0.013355069735978761\n",
            "After epoch 91: Weight is 0.30194412316297026 and Bias is -0.013355069735978765\n",
            "After epoch 92: Weight is 0.30194412316297026 and Bias is -0.013355069735978763\n",
            "After epoch 93: Weight is 0.30194412316297026 and Bias is -0.013355069735978765\n",
            "After epoch 94: Weight is 0.30194412316297026 and Bias is -0.013355069735978761\n",
            "After epoch 95: Weight is 0.30194412316297026 and Bias is -0.013355069735978765\n",
            "After epoch 96: Weight is 0.30194412316297026 and Bias is -0.013355069735978763\n",
            "After epoch 97: Weight is 0.30194412316297026 and Bias is -0.013355069735978765\n",
            "After epoch 98: Weight is 0.30194412316297026 and Bias is -0.013355069735978761\n",
            "After epoch 99: Weight is 0.30194412316297026 and Bias is -0.013355069735978765\n",
            "After epoch 100: Weight is 0.30194412316297026 and Bias is -0.013355069735978763\n"
          ]
        }
      ]
    },
    {
      "cell_type": "code",
      "source": [
        "plt.plot(epoch, err_nag) \n",
        "plt.xlabel(\"Epoch\") \n",
        "plt.ylabel(\"Error\") \n",
        "plt.show()"
      ],
      "metadata": {
        "colab": {
          "base_uri": "https://localhost:8080/",
          "height": 279
        },
        "id": "HUdFSENrrog1",
        "outputId": "be703a18-107d-4d5e-85b6-6529b12a7521"
      },
      "execution_count": null,
      "outputs": [
        {
          "output_type": "display_data",
          "data": {
            "text/plain": [
              "<Figure size 432x288 with 1 Axes>"
            ],
            "image/png": "[encoded data removed]"
          },
          "metadata": {
            "needs_background": "light"
          }
        }
      ]
    },
    {
      "cell_type": "code",
      "source": [
        "plt.plot(wt_nag, err_nag) \n",
        "plt.xlabel(\"Epoch\") \n",
        "plt.ylabel(\"Error\") \n",
        "plt.show()"
      ],
      "metadata": {
        "colab": {
          "base_uri": "https://localhost:8080/",
          "height": 279
        },
        "id": "_HwszIPSruec",
        "outputId": "1043fee2-e7c7-4666-e78b-6de247686590"
      },
      "execution_count": null,
      "outputs": [
        {
          "output_type": "display_data",
          "data": {
            "text/plain": [
              "<Figure size 432x288 with 1 Axes>"
            ],
            "image/png": "[encoded data removed]"
          },
          "metadata": {
            "needs_background": "light"
          }
        }
      ]
    },
    {
      "cell_type": "markdown",
      "source": [
        "# **ADAM**"
      ],
      "metadata": {
        "id": "pz82TzT5YVNV"
      }
    },
    {
      "cell_type": "code",
      "source": [
        "def adam_gd(X, Y, epochs): \n",
        "  w, b, c = -2, -2, 1 \n",
        "  beta1, beta2 = 0.45, 0.85\n",
        "  eta = 1 \n",
        "  mt_w, mt_b = 0, 0 \n",
        "  vt_w, vt_b = 0, 0\n",
        "  eps = 2 \n",
        "  err_list = [] \n",
        "  W = [] \n",
        "  B = [] \n",
        "  for i in range(1, epochs+1): \n",
        "    temp_dw = 0 \n",
        "    temp_db = 0 \n",
        "    for x, y in zip(X, Y): \n",
        "      y_hat = sigmoid(x, w, b)\n",
        "      temp_dw += delta_w(x, y, y_hat, c) \n",
        "      temp_db += delta_b(y, y_hat, c) \n",
        "    \n",
        "    mt_w = beta1*mt_w + (1-beta1)*temp_dw\n",
        "    mt_b = beta1*mt_b + (1-beta1)*temp_db \n",
        "\n",
        "    vt_w = beta2*vt_w + (1-beta2)*temp_dw*temp_dw\n",
        "    vt_b = beta2*vt_b + (1-beta2)*temp_db*temp_db \n",
        "\n",
        "    mt_hat_w = mt_w/(1-beta1**i) \n",
        "    vt_hat_w = vt_w/(1-beta2**i) \n",
        "    w = w - (eta*mt_hat_w)/(np.sqrt(vt_hat_w) + eps)\n",
        "\n",
        "    mt_hat_b = mt_b/(1-beta1**i) \n",
        "    vt_hat_b = vt_b/(1-beta2**i) \n",
        "    b = b - (eta*mt_hat_b)/(np.sqrt(vt_hat_b) + eps)\n",
        "\n",
        "    W.append(w) \n",
        "    B.append(b) \n",
        "\n",
        "    err_list.append(error(Y, sigmoid(X, w, b)))\n",
        "    print(f\"After epoch {i+1}: Weight is {w} and Bias is {b}\") \n",
        "  return W, B, err_list"
      ],
      "metadata": {
        "id": "jQtZSqh4YXpR"
      },
      "execution_count": null,
      "outputs": []
    },
    {
      "cell_type": "code",
      "source": [
        "wt_adam, bias_adam, err_adam = adam_gd(X, Y, 100)"
      ],
      "metadata": {
        "colab": {
          "base_uri": "https://localhost:8080/"
        },
        "id": "X8aUF_OyatEc",
        "outputId": "30c9c399-d3ce-4dcf-bf19-d3256c7bfae8"
      },
      "execution_count": null,
      "outputs": [
        {
          "output_type": "stream",
          "name": "stdout",
          "text": [
            "After epoch 2: Weight is -1.9972613611316208 and Bias is -1.9961592287915415\n",
            "After epoch 3: Weight is -1.994511449265941 and Bias is -1.9923079668356405\n",
            "After epoch 4: Weight is -1.9917484711265891 and Bias is -1.9884445863276483\n",
            "After epoch 5: Weight is -1.98897102495618 and Bias is -1.9845678367830355\n",
            "After epoch 6: Weight is -1.9861780853890012 and Bias is -1.9806768278425353\n",
            "After epoch 7: Weight is -1.9833689263222143 and Bias is -1.9767709545700018\n",
            "After epoch 8: Weight is -1.9805430300493965 and Bias is -1.9728498107727237\n",
            "After epoch 9: Weight is -1.977700010386904 and Bias is -1.968913116186896\n",
            "After epoch 10: Weight is -1.9748395579176707 and Bias is -1.9649606648682387\n",
            "After epoch 11: Weight is -1.9719614049568583 and Bias is -1.9609922923144778\n",
            "After epoch 12: Weight is -1.969065304686348 and Bias is -1.9570078559747681\n",
            "After epoch 13: Weight is -1.9661510193227238 and Bias is -1.9530072242620193\n",
            "After epoch 14: Weight is -1.9632183136252048 and Bias is -1.9489902705765287\n",
            "After epoch 15: Weight is -1.9602669514018705 and Bias is -1.9449568701366302\n",
            "After epoch 16: Weight is -1.9572966936384453 and Bias is -1.9409068983257622\n",
            "After epoch 17: Weight is -1.9543072974810574 and Bias is -1.9368402298371374\n",
            "After epoch 18: Weight is -1.9512985156584313 and Bias is -1.9327567382294266\n",
            "After epoch 19: Weight is -1.948270096125575 and Bias is -1.9286562956907978\n",
            "After epoch 20: Weight is -1.945221781816537 and Bias is -1.924538772907084\n",
            "After epoch 21: Weight is -1.9421533104490454 and Bias is -1.920404038981252\n",
            "After epoch 22: Weight is -1.9390644143522282 and Bias is -1.916251961377691\n",
            "After epoch 23: Weight is -1.935954820302974 and Bias is -1.9120824058781438\n",
            "After epoch 24: Weight is -1.9328242493636831 and Bias is -1.907895236542749\n",
            "After epoch 25: Weight is -1.9296724167177144 and Bias is -1.9036903156729477\n",
            "After epoch 26: Weight is -1.9264990315005814 and Bias is -1.899467503774627\n",
            "After epoch 27: Weight is -1.9233037966257975 and Bias is -1.8952266595206553\n",
            "After epoch 28: Weight is -1.9200864086046776 and Bias is -1.8909676397123525\n",
            "After epoch 29: Weight is -1.9168465573595967 and Bias is -1.88669029923962\n",
            "After epoch 30: Weight is -1.9135839260302885 and Bias is -1.88239449103955\n",
            "After epoch 31: Weight is -1.910298190772803 and Bias is -1.878080066053373\n",
            "After epoch 32: Weight is -1.9069890205507527 and Bias is -1.8737468731816247\n",
            "After epoch 33: Weight is -1.9036560769184707 and Bias is -1.8693947592374245\n",
            "After epoch 34: Weight is -1.9002990137956928 and Bias is -1.8650235688977568\n",
            "After epoch 35: Weight is -1.896917477233362 and Bias is -1.860633144652652\n",
            "After epoch 36: Weight is -1.8935111051701359 and Bias is -1.8562233267521588\n",
            "After epoch 37: Weight is -1.890079527179155 and Bias is -1.8517939531509946\n",
            "After epoch 38: Weight is -1.8866223642046087 and Bias is -1.8473448594507624\n",
            "After epoch 39: Weight is -1.8831392282876125 and Bias is -1.8428758788396116\n",
            "After epoch 40: Weight is -1.8796297222808822 and Bias is -1.8383868420292153\n",
            "After epoch 41: Weight is -1.8760934395516617 and Bias is -1.833877577188933\n",
            "After epoch 42: Weight is -1.8725299636723338 and Bias is -1.829347909877013\n",
            "After epoch 43: Weight is -1.8689388680981056 and Bias is -1.8247976629686875\n",
            "After epoch 44: Weight is -1.8653197158311303 and Bias is -1.8202266565810004\n",
            "After epoch 45: Weight is -1.8616720590703868 and Bias is -1.815634707994193\n",
            "After epoch 46: Weight is -1.8579954388465967 and Bias is -1.8110216315694727\n",
            "After epoch 47: Weight is -1.85428938464142 and Bias is -1.8063872386629651\n",
            "After epoch 48: Weight is -1.8505534139901194 and Bias is -1.8017313375356456\n",
            "After epoch 49: Weight is -1.8467870320668405 and Bias is -1.7970537332590297\n",
            "After epoch 50: Weight is -1.8429897312515926 and Bias is -1.7923542276163842\n",
            "After epoch 51: Weight is -1.8391609906779698 and Bias is -1.7876326189992082\n",
            "After epoch 52: Weight is -1.8353002757605832 and Bias is -1.7828887022987154\n",
            "After epoch 53: Weight is -1.8314070377011151 and Bias is -1.7781222687920257\n",
            "After epoch 54: Weight is -1.827480712971833 and Bias is -1.7733331060227624\n",
            "After epoch 55: Weight is -1.82352072277533 and Bias is -1.7685209976757204\n",
            "After epoch 56: Weight is -1.8195264724791798 and Bias is -1.7636857234452556\n",
            "After epoch 57: Weight is -1.8154973510241 and Bias is -1.7588270588970163\n",
            "After epoch 58: Weight is -1.8114327303041384 and Bias is -1.75394477532261\n",
            "After epoch 59: Weight is -1.807331964517289 and Bias is -1.7490386395867754\n",
            "After epoch 60: Weight is -1.803194389484838 and Bias is -1.74410841396659\n",
            "After epoch 61: Weight is -1.7990193219376334 and Bias is -1.7391538559822206\n",
            "After epoch 62: Weight is -1.7948060587673382 and Bias is -1.7341747182186749\n",
            "After epoch 63: Weight is -1.7905538762406021 and Bias is -1.7291707481379879\n",
            "After epoch 64: Weight is -1.7862620291739402 and Bias is -1.7241416878812212\n",
            "After epoch 65: Weight is -1.7819297500669509 and Bias is -1.7190872740596161\n",
            "After epoch 66: Weight is -1.7775562481913434 and Bias is -1.7140072375341884\n",
            "After epoch 67: Weight is -1.7731407086330564 and Bias is -1.7089013031830007\n",
            "After epoch 68: Weight is -1.7686822912845628 and Bias is -1.7037691896552887\n",
            "After epoch 69: Weight is -1.7641801297842366 and Bias is -1.6986106091115543\n",
            "After epoch 70: Weight is -1.759633330399433 and Bias is -1.693425266948673\n",
            "After epoch 71: Weight is -1.7550409708496835 and Bias is -1.6882128615089838\n",
            "After epoch 72: Weight is -1.7504020990661355 and Bias is -1.6829730837722539\n",
            "After epoch 73: Weight is -1.7457157318830763 and Bias is -1.6777056170293188\n",
            "After epoch 74: Weight is -1.7409808536570601 and Bias is -1.6724101365361028\n",
            "After epoch 75: Weight is -1.7361964148088125 and Bias is -1.667086309146622\n",
            "After epoch 76: Weight is -1.7313613302827071 and Bias is -1.6617337929234552\n",
            "After epoch 77: Weight is -1.7264744779181993 and Bias is -1.6563522367240469\n",
            "After epoch 78: Weight is -1.721534696727152 and Bias is -1.6509412797610623\n",
            "After epoch 79: Weight is -1.7165407850705026 and Bias is -1.645500551134877\n",
            "After epoch 80: Weight is -1.711491498727176 and Bias is -1.6400296693361076\n",
            "After epoch 81: Weight is -1.7063855488475757 and Bias is -1.6345282417159188\n",
            "After epoch 82: Weight is -1.7012215997833287 and Bias is -1.6289958639216426\n",
            "After epoch 83: Weight is -1.6959982667842723 and Bias is -1.6234321192950278\n",
            "After epoch 84: Weight is -1.6907141135528856 and Bias is -1.6178365782302013\n",
            "After epoch 85: Weight is -1.6853676496455314 and Bias is -1.6122087974881623\n",
            "After epoch 86: Weight is -1.6799573277089361 and Bias is -1.6065483194643386\n",
            "After epoch 87: Weight is -1.6744815405393132 and Bias is -1.600854671405418\n",
            "After epoch 88: Weight is -1.668938617950403 and Bias is -1.5951273645713144\n",
            "After epoch 89: Weight is -1.663326823435457 and Bias is -1.5893658933377437\n",
            "After epoch 90: Weight is -1.6576443506068126 and Bias is -1.583569734234445\n",
            "After epoch 91: Weight is -1.6518893193951873 and Bias is -1.577738344913617\n",
            "After epoch 92: Weight is -1.646059771989127 and Bias is -1.5718711630425992\n",
            "After epoch 93: Weight is -1.6401536684931772 and Bias is -1.5659676051142464\n",
            "After epoch 94: Weight is -1.6341688822812672 and Bias is -1.560027065167787\n",
            "After epoch 95: Weight is -1.6281031950194882 and Bias is -1.5540489134122255\n",
            "After epoch 96: Weight is -1.6219542913298783 and Bias is -1.5480324947435387\n",
            "After epoch 97: Weight is -1.6157197530639595 and Bias is -1.541977127146002\n",
            "After epoch 98: Weight is -1.609397053151576 and Bias is -1.5358820999669696\n",
            "After epoch 99: Weight is -1.602983548987008 and Bias is -1.5297466720532868\n",
            "After epoch 100: Weight is -1.596476475310328 and Bias is -1.5235700697362424\n",
            "After epoch 101: Weight is -1.589872936537485 and Bias is -1.517351484650519\n"
          ]
        }
      ]
    },
    {
      "cell_type": "code",
      "source": [
        "plt.plot(epoch, err_adam) \n",
        "plt.xlabel(\"Epoch\") \n",
        "plt.ylabel(\"Error\") \n",
        "plt.show()"
      ],
      "metadata": {
        "colab": {
          "base_uri": "https://localhost:8080/",
          "height": 279
        },
        "id": "RB5q8Mf6ay2_",
        "outputId": "edf597e5-5fb3-4e11-b605-7afbd7a52bc8"
      },
      "execution_count": null,
      "outputs": [
        {
          "output_type": "display_data",
          "data": {
            "text/plain": [
              "<Figure size 432x288 with 1 Axes>"
            ],
            "image/png": "[encoded data removed]"
          },
          "metadata": {
            "needs_background": "light"
          }
        }
      ]
    },
    {
      "cell_type": "code",
      "source": [
        "plt.plot(wt_adam, err_adam) \n",
        "plt.xlabel(\"Weight\") \n",
        "plt.ylabel(\"Error\") \n",
        "plt.show()"
      ],
      "metadata": {
        "colab": {
          "base_uri": "https://localhost:8080/",
          "height": 279
        },
        "id": "ir1LLYG4a3kW",
        "outputId": "83befa49-0883-44a6-ae19-e7875bc3a706"
      },
      "execution_count": null,
      "outputs": [
        {
          "output_type": "display_data",
          "data": {
            "text/plain": [
              "<Figure size 432x288 with 1 Axes>"
            ],
            "image/png": "[encoded data removed]"
          },
          "metadata": {
            "needs_background": "light"
          }
        }
      ]
    },
    {
      "cell_type": "markdown",
      "source": [
        "# **ANALYSIS OF ALL GRADIENTS**"
      ],
      "metadata": {
        "id": "1moBVeL9k_kz"
      }
    },
    {
      "cell_type": "code",
      "source": [
        "plt.figure(figsize=(10, 10)) \n",
        "plt.plot(epoch, err_bgd, color='orange') \n",
        "plt.plot(epoch, err_mb, color='yellow')\n",
        "plt.plot(epoch, err_mom, color='pink') \n",
        "plt.plot(epoch, err_adagrad, color='red')\n",
        "plt.plot(epoch, err_adadelta, color='green') \n",
        "plt.plot(epoch, err_nag, color='blue')\n",
        "plt.plot(epoch, err_adam, color='cyan') \n",
        "plt.legend(['Batch', 'Mini-Batch', 'Momentum', 'AdaGrad', 'AdaDelta', 'NAG', 'ADAM'], loc='best') \n",
        "plt.show()"
      ],
      "metadata": {
        "colab": {
          "base_uri": "https://localhost:8080/",
          "height": 592
        },
        "id": "YidUxZg9lCyf",
        "outputId": "c1da0cd2-6ccc-43b4-c0fe-01a19ce6d188"
      },
      "execution_count": null,
      "outputs": [
        {
          "output_type": "display_data",
          "data": {
            "text/plain": [
              "<Figure size 720x720 with 1 Axes>"
            ],
            "image/png": "[encoded data removed]"
          },
          "metadata": {
            "needs_background": "light"
          }
        }
      ]
    }
  ]
}